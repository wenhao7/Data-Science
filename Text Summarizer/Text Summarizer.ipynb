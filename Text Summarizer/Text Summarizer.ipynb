{
 "cells": [
  {
   "cell_type": "markdown",
   "id": "empty-chance",
   "metadata": {},
   "source": [
    "# Text Summarizer\n",
    "\n",
    "***\n",
    "\n",
    "## Contents\n",
    "1. [Overview](#1)\n",
    "2. [Extractive Text Summarizer](#2)\n",
    "3. [Abstractive Text Summarizer](#3)\n",
    "\n",
    "***\n",
    "<a id = '1'></a>\n",
    "## 1. Overview\n",
    "In this notebook we will create text summarizers to summarize Wikipedia articles using two different methods\n",
    "\n",
    "***\n",
    "\n",
    "<a id = '2'></a>\n",
    "## 2. Extractive Text Summarizer\n",
    "Text summarizers that are extractive reads the input texts and discards sentences that are deemed less important. Input data in this case will be text scraped from Wikipedia."
   ]
  },
  {
   "cell_type": "code",
   "execution_count": 1,
   "id": "stone-particular",
   "metadata": {},
   "outputs": [],
   "source": [
    "import bs4 as bs\n",
    "import urllib.request\n",
    "import re\n",
    "from nltk.corpus import stopwords\n",
    "from nltk.tokenize import word_tokenize, sent_tokenize\n",
    "import heapq\n",
    "import warnings\n",
    "warnings.filterwarnings('ignore')"
   ]
  },
  {
   "cell_type": "code",
   "execution_count": 2,
   "id": "statutory-summary",
   "metadata": {},
   "outputs": [
    {
     "name": "stdout",
     "output_type": "stream",
     "text": [
      "\n",
      " First 500 characters of Wikipedia article: \n",
      " \n",
      "\n",
      "Amphicynodontinae\n",
      "Hemicyoninae\n",
      "Ursavinae\n",
      "Agriotheriinae\n",
      "Ailuropodinae\n",
      "Tremarctinae\n",
      "Ursinae\n",
      "Bears are carnivoran mammals of the family Ursidae. They are classified as caniforms, or doglike carnivorans.  Although only eight species of bears are extant, they are widespread, appearing in a wide variety of habitats throughout the Northern Hemisphere and partially in the Southern Hemisphere. Bears are found on the continents of North America, South America, Europe, and Asia. Common characteristics o\n"
     ]
    }
   ],
   "source": [
    "### Scrape Wikipedia\n",
    "scraped_data = urllib.request.urlopen(\"https://en.wikipedia.org/wiki/Bear\")\n",
    "article = scraped_data.read()\n",
    "\n",
    "parsed_article = bs.BeautifulSoup(article, 'lxml')\n",
    "\n",
    "paragraphs = parsed_article.find_all('p')\n",
    "\n",
    "article_text = \"\"\n",
    "for p in paragraphs:\n",
    "    article_text += p.text\n",
    "\n",
    "print(\"\\n First 500 characters of Wikipedia article: \\n\", article_text[:500])"
   ]
  },
  {
   "cell_type": "code",
   "execution_count": 3,
   "id": "monthly-oliver",
   "metadata": {},
   "outputs": [
    {
     "name": "stdout",
     "output_type": "stream",
     "text": [
      "\n",
      " First 500 characters of shortened article: \n",
      "  . Amphicynodontinae. Hemicyoninae. Ursavinae. Agriotheriinae. Ailuropodinae. Tremarctinae. Ursinae. Bears are carnivoran mammals of the family Ursidae. They are classified as caniforms, or doglike carnivorans. Although only eight species of bears are extant, they are widespread, appearing in a wide variety of habitats throughout the Northern Hemisphere and partially in the Southern Hemisphere. Bears are found on the continents of North America, South America, Europe, and Asia. Common characteri\n"
     ]
    }
   ],
   "source": [
    "### Preprocessing\n",
    "\n",
    "# Clean formatting\n",
    "article_text = re.sub(r'(\\r\\n?|\\n)+', '. ', article_text)\n",
    "article_text = re.sub(r'\\[[0-9]*\\]', ' ', article_text)\n",
    "article_text = re.sub(r'\\s+', ' ', article_text)\n",
    "\n",
    "# Shorten article to first 512 words\n",
    "temp = article_text.split()\n",
    "temp = temp[:512]\n",
    "shortened_text = ''\n",
    "for word in temp:\n",
    "    shortened_text = shortened_text + ' ' + word\n",
    "\n",
    "print(\"\\n First 500 characters of shortened article: \\n\", shortened_text[:500])"
   ]
  },
  {
   "cell_type": "code",
   "execution_count": 4,
   "id": "organizational-playing",
   "metadata": {},
   "outputs": [
    {
     "name": "stdout",
     "output_type": "stream",
     "text": [
      "\n",
      " First 500 characters of cleaned text: \n",
      "  Amphicynodontinae Hemicyoninae Ursavinae Agriotheriinae Ailuropodinae Tremarctinae Ursinae Bears are carnivoran mammals of the family Ursidae They are classified as caniforms or doglike carnivorans Although only eight species of bears are extant they are widespread appearing in a wide variety of habitats throughout the Northern Hemisphere and partially in the Southern Hemisphere Bears are found on the continents of North America South America Europe and Asia Common characteristics of modern bea\n"
     ]
    }
   ],
   "source": [
    "# Remove punctuations\n",
    "cleaned_article_text = re.sub('[^a-zA-Z]', ' ', shortened_text)\n",
    "cleaned_article_text = re.sub(r'\\s+', ' ', cleaned_article_text)\n",
    "\n",
    "print(\"\\n First 500 characters of cleaned text: \\n\", cleaned_article_text[:500])"
   ]
  },
  {
   "cell_type": "code",
   "execution_count": 5,
   "id": "independent-horse",
   "metadata": {},
   "outputs": [],
   "source": [
    "# Tokenize sentences\n",
    "sentences = sent_tokenize(article_text)\n",
    "\n",
    "# Word Frequency Table\n",
    "stopwords = stopwords.words('english')\n",
    "\n",
    "freqTable = dict()\n",
    "words = word_tokenize(cleaned_article_text)\n",
    "\n",
    "for word in words:\n",
    "    word = word.lower()\n",
    "    if word in stopwords:\n",
    "        continue\n",
    "    if word in freqTable.keys():\n",
    "        freqTable[word] += 1\n",
    "    else:\n",
    "        freqTable[word] = 1\n",
    "\n",
    "max_freq = max(freqTable.values())\n",
    "for word in freqTable.keys():\n",
    "    freqTable[word] = (freqTable[word]/max_freq)"
   ]
  },
  {
   "cell_type": "markdown",
   "id": "executive-indianapolis",
   "metadata": {},
   "source": [
    "The dictionary contains a score for every unique word in the article based on their frequency, which is then used to calculate the scores of each sentence in the text."
   ]
  },
  {
   "cell_type": "code",
   "execution_count": 6,
   "id": "delayed-mapping",
   "metadata": {},
   "outputs": [],
   "source": [
    "# Sentence scores\n",
    "sentenceValue = dict()\n",
    "for sent in sentences:\n",
    "    for word, freq in freqTable.items():\n",
    "        if word in sent.lower():\n",
    "            if len(sent.split(' ')) < 40:\n",
    "                if sent in sentenceValue:\n",
    "                    sentenceValue[sent] += freq\n",
    "                else:\n",
    "                    sentenceValue[sent] = freq"
   ]
  },
  {
   "cell_type": "markdown",
   "id": "israeli-quantum",
   "metadata": {},
   "source": [
    "With the scores of each sentence in the text, we are able to sieve out the 'n' most important sentences as the summarized version of our text. In this case we shall choose the top 4 sentences with the highest scores to form a paragraph to summarize the article."
   ]
  },
  {
   "cell_type": "code",
   "execution_count": 7,
   "id": "distant-olive",
   "metadata": {},
   "outputs": [
    {
     "name": "stdout",
     "output_type": "stream",
     "text": [
      "\n",
      " Summarised version of the Wikipedia article: \n",
      "\n",
      " The English word \"bear\" comes from Old English bera and belongs to a family of names for the bear in Germanic languages, such as Swedish björn, also used as a first name. This terminology for the animal originated as a taboo avoidance term: proto-Germanic tribes replaced their original word for bear—arkto—with this euphemistic expression out of fear that speaking the animal's true name might cause it to appear. Although only eight species of bears are extant, they are widespread, appearing in a wide variety of habitats throughout the Northern Hemisphere and partially in the Southern Hemisphere. Common characteristics of modern bears include large bodies with stocky legs, long snouts, small rounded ears, shaggy hair, plantigrade paws with five nonretractile claws, and short tails..\n"
     ]
    }
   ],
   "source": [
    "# Return summary\n",
    "n = 4\n",
    "summary = ' '.join(heapq.nlargest(n, sentenceValue, key = sentenceValue.get))   \n",
    "\n",
    "print(\"\\n Summarised version of the Wikipedia article: \\n\\n\", summary)"
   ]
  },
  {
   "cell_type": "markdown",
   "id": "missing-moral",
   "metadata": {},
   "source": [
    "***\n",
    "\n",
    "<a id ='3'></a>\n",
    "## 3. Abstractive Text Summarizer\n",
    "Abstractive text summarizers differs from extractive text summarizers as they do not simply extract the most important sentences from the original text, but also generate new sentences based on details that are deemed important to the algorithm. In this notebook we shall us Huggingface's *transformers* library for transfer learning on their pre-trained T5-Transformers."
   ]
  },
  {
   "cell_type": "code",
   "execution_count": 8,
   "id": "standing-secretary",
   "metadata": {},
   "outputs": [],
   "source": [
    "from transformers import pipeline\n",
    "from transformers import T5ForConditionalGeneration, T5Tokenizer\n",
    "model = T5ForConditionalGeneration.from_pretrained(\"t5-base\")\n",
    "tokenizer = T5Tokenizer.from_pretrained(\"t5-base\")"
   ]
  },
  {
   "cell_type": "code",
   "execution_count": 9,
   "id": "raised-explorer",
   "metadata": {},
   "outputs": [],
   "source": [
    "### Scrape Wikipedia\n",
    "scraped_data = urllib.request.urlopen(\"https://en.wikipedia.org/wiki/Bear\")\n",
    "article = scraped_data.read()\n",
    "\n",
    "parsed_article = bs.BeautifulSoup(article, 'lxml')\n",
    "paragraphs = parsed_article.find_all('p')\n",
    "\n",
    "article_text = \"\"\n",
    "for p in paragraphs:\n",
    "    article_text += p.text"
   ]
  },
  {
   "cell_type": "code",
   "execution_count": null,
   "id": "planned-paintball",
   "metadata": {},
   "outputs": [],
   "source": [
    "# Model input\n",
    "inputs = tokenizer.encode(\"summarize: \" + article_text, return_tensors = \"pt\", max_length = 512, truncation = True)\n",
    "\n",
    "# Model output\n",
    "outputs = model.generate(inputs, max_length = 150, min_length = 40,\n",
    "                         length_penalty = 2.0, num_beams = 4,\n",
    "                         early_stopping = True)"
   ]
  },
  {
   "cell_type": "code",
   "execution_count": null,
   "id": "presidential-instrumentation",
   "metadata": {},
   "outputs": [],
   "source": [
    "#print(outputs)\n",
    "print('\\n\\n')\n",
    "print(\"\\n Summarised version of the Wikipedia article: \\n\\n\",tokenizer.decode(outputs[0]))"
   ]
  }
 ],
 "metadata": {
  "kernelspec": {
   "display_name": "Python 3",
   "language": "python",
   "name": "python3"
  },
  "language_info": {
   "codemirror_mode": {
    "name": "ipython",
    "version": 3
   },
   "file_extension": ".py",
   "mimetype": "text/x-python",
   "name": "python",
   "nbconvert_exporter": "python",
   "pygments_lexer": "ipython3",
   "version": "3.8.8"
  }
 },
 "nbformat": 4,
 "nbformat_minor": 5
}
