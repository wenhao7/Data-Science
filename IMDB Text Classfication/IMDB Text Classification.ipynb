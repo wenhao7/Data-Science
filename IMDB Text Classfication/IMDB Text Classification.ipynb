{
 "cells": [
  {
   "cell_type": "markdown",
   "id": "3c1839fe-4b21-4c87-a812-4c7953724b5e",
   "metadata": {},
   "source": [
    "# Text Classficiation with DistilBERT (IMDB Dataset)\n",
    "\n",
    "***\n",
    "\n",
    "## Contents\n",
    "1. [Overview](#overview)\n",
    "2. [Data Preprocessing](#preprocess)\n",
    "3. [Data Exploration](#exploration)\n",
    "4. [Modelling](#bert)\n",
    "5. [Conclusion](#conclusion)\n",
    "\n",
    "***\n",
    "\n",
    "<a id = 'overview'></a>\n",
    "### 1. *Overview*\n",
    "In this notebook we will be exploring the [IMDB dataset](https://www.kaggle.com/lakshmi25npathi/imdb-dataset-of-50k-movie-reviews) available on Kaggle, containing 50,000 reviews categorised as either positive or negative reviews. A text classification model will then be fine-tuned over DistilBERT and evaluated.\n",
    "\n",
    "***"
   ]
  },
  {
   "cell_type": "code",
   "execution_count": 1,
   "id": "7719c224",
   "metadata": {},
   "outputs": [
    {
     "name": "stderr",
     "output_type": "stream",
     "text": [
      "C:\\Users\\wenhao\\anaconda3\\envs\\ML\\Lib\\site-packages\\transformers\\utils\\generic.py:260: UserWarning: torch.utils._pytree._register_pytree_node is deprecated. Please use torch.utils._pytree.register_pytree_node instead.\n",
      "  torch.utils._pytree._register_pytree_node(\n"
     ]
    }
   ],
   "source": [
    "import pandas as pd\n",
    "import numpy as np\n",
    "import random\n",
    "from collections import Counter\n",
    "from datasets import load_dataset, Dataset\n",
    "\n",
    "import seaborn as sns\n",
    "import matplotlib.pyplot as plt\n",
    "\n",
    "import nltk\n",
    "from nltk.corpus import stopwords\n",
    "from sklearn.feature_extraction.text import re\n",
    "from sklearn.feature_extraction.text import TfidfVectorizer\n",
    "from sklearn.feature_extraction.text import CountVectorizer\n",
    "from sklearn.model_selection import train_test_split\n",
    "from sklearn.linear_model import LogisticRegression\n",
    "from sklearn import metrics, preprocessing\n",
    "from sklearn.metrics import classification_report, confusion_matrix, accuracy_score, f1_score, roc_auc_score, roc_curve\n",
    "\n",
    "from transformers import AutoTokenizer, DistilBertTokenizerFast\n",
    "from transformers import DataCollatorWithPadding\n",
    "from transformers import AutoModelForSequenceClassification\n",
    "from transformers import TrainingArguments, Trainer\n",
    "import torch\n",
    "import evaluate\n",
    "from bs4 import BeautifulSoup\n",
    "import lxml"
   ]
  },
  {
   "cell_type": "markdown",
   "id": "dcce358c-2811-4d88-8663-442ed4be5802",
   "metadata": {},
   "source": [
    "***\n",
    "<a id = 'preprocess'></a>\n",
    "### 2. *Data Preprocessing*\n",
    "\n",
    "We will begin by initialising certain variables that will be used over the course of this notebook, before importing the dataset using pandas."
   ]
  },
  {
   "cell_type": "code",
   "execution_count": null,
   "id": "4383d66c-b9d8-4f35-89a4-f38dc117a1ba",
   "metadata": {},
   "outputs": [],
   "source": []
  },
  {
   "cell_type": "code",
   "execution_count": 2,
   "id": "482c52d2-3c15-4ac4-b7ee-52b6f6ae0121",
   "metadata": {},
   "outputs": [],
   "source": [
    "data_path = 'IMDB Dataset.csv' \n",
    "text_column_name = \"review\" \n",
    "label_column_name = \"sentiment\" \n",
    "\n",
    "model_name = \"distilbert-base-uncased\" \n",
    "test_size = 0.2 \n",
    "num_labels = 2 \n"
   ]
  },
  {
   "cell_type": "code",
   "execution_count": 3,
   "id": "ae28b469-df46-455c-ab68-56777419e26b",
   "metadata": {},
   "outputs": [
    {
     "data": {
      "text/html": [
       "<div>\n",
       "<style scoped>\n",
       "    .dataframe tbody tr th:only-of-type {\n",
       "        vertical-align: middle;\n",
       "    }\n",
       "\n",
       "    .dataframe tbody tr th {\n",
       "        vertical-align: top;\n",
       "    }\n",
       "\n",
       "    .dataframe thead th {\n",
       "        text-align: right;\n",
       "    }\n",
       "</style>\n",
       "<table border=\"1\" class=\"dataframe\">\n",
       "  <thead>\n",
       "    <tr style=\"text-align: right;\">\n",
       "      <th></th>\n",
       "      <th>review</th>\n",
       "      <th>sentiment</th>\n",
       "    </tr>\n",
       "  </thead>\n",
       "  <tbody>\n",
       "    <tr>\n",
       "      <th>0</th>\n",
       "      <td>One of the other reviewers has mentioned that ...</td>\n",
       "      <td>positive</td>\n",
       "    </tr>\n",
       "    <tr>\n",
       "      <th>1</th>\n",
       "      <td>A wonderful little production. &lt;br /&gt;&lt;br /&gt;The...</td>\n",
       "      <td>positive</td>\n",
       "    </tr>\n",
       "    <tr>\n",
       "      <th>2</th>\n",
       "      <td>I thought this was a wonderful way to spend ti...</td>\n",
       "      <td>positive</td>\n",
       "    </tr>\n",
       "    <tr>\n",
       "      <th>3</th>\n",
       "      <td>Basically there's a family where a little boy ...</td>\n",
       "      <td>negative</td>\n",
       "    </tr>\n",
       "    <tr>\n",
       "      <th>4</th>\n",
       "      <td>Petter Mattei's \"Love in the Time of Money\" is...</td>\n",
       "      <td>positive</td>\n",
       "    </tr>\n",
       "  </tbody>\n",
       "</table>\n",
       "</div>"
      ],
      "text/plain": [
       "                                              review sentiment\n",
       "0  One of the other reviewers has mentioned that ...  positive\n",
       "1  A wonderful little production. <br /><br />The...  positive\n",
       "2  I thought this was a wonderful way to spend ti...  positive\n",
       "3  Basically there's a family where a little boy ...  negative\n",
       "4  Petter Mattei's \"Love in the Time of Money\" is...  positive"
      ]
     },
     "execution_count": 3,
     "metadata": {},
     "output_type": "execute_result"
    }
   ],
   "source": [
    "df = pd.read_csv(data_path)\n",
    "df.head()"
   ]
  },
  {
   "cell_type": "code",
   "execution_count": 4,
   "id": "d73eaed6-d1de-4d27-ae23-454ee57886df",
   "metadata": {},
   "outputs": [
    {
     "data": {
      "text/plain": [
       "review       0\n",
       "sentiment    0\n",
       "dtype: int64"
      ]
     },
     "execution_count": 4,
     "metadata": {},
     "output_type": "execute_result"
    }
   ],
   "source": [
    "df.isnull().sum()"
   ]
  },
  {
   "cell_type": "code",
   "execution_count": 5,
   "id": "32a2826f-b967-4256-beca-528d20f8ee5a",
   "metadata": {},
   "outputs": [
    {
     "data": {
      "text/plain": [
       "sentiment\n",
       "positive    25000\n",
       "negative    25000\n",
       "Name: count, dtype: int64"
      ]
     },
     "execution_count": 5,
     "metadata": {},
     "output_type": "execute_result"
    }
   ],
   "source": [
    "df.sentiment.value_counts()"
   ]
  },
  {
   "cell_type": "code",
   "execution_count": 6,
   "id": "ca5b3042-fb5b-4581-be21-01d55a1c8c60",
   "metadata": {},
   "outputs": [
    {
     "data": {
      "text/plain": [
       "'A wonderful little production. <br /><br />The filming technique is very unassuming- very old-time-BBC fashion and gives a comforting, and sometimes discomforting, sense of realism to the entire piece. <br /><br />The actors are extremely well chosen- Michael Sheen not only \"has got all the polari\" but he has all the voices down pat too! You can truly see the seamless editing guided by the references to Williams\\' diary entries, not only is it well worth the watching but it is a terrificly written and performed piece. A masterful production about one of the great master\\'s of comedy and his life. <br /><br />The realism really comes home with the little things: the fantasy of the guard which, rather than use the traditional \\'dream\\' techniques remains solid then disappears. It plays on our knowledge and our senses, particularly with the scenes concerning Orton and Halliwell and the sets (particularly of their flat with Halliwell\\'s murals decorating every surface) are terribly well done.'"
      ]
     },
     "execution_count": 6,
     "metadata": {},
     "output_type": "execute_result"
    }
   ],
   "source": [
    "df['review'][1]"
   ]
  },
  {
   "cell_type": "markdown",
   "id": "dbf6b1a1-9fe1-47e7-8e4f-416974d78b24",
   "metadata": {},
   "source": [
    "We see that this is a balanced dataset with a 1:1 ratio of positive and negative reviews, hence there is no need to handle class imbalances.\n",
    "\n",
    "Looking at the review we see that html tags exists in the dataset, we will remove them as part of data cleaning making use of BeautifulSoup package to parse our reviews. Additionally, we will also encode our \"sentiment\" column."
   ]
  },
  {
   "cell_type": "code",
   "execution_count": 7,
   "id": "f49cd939-a501-4725-9b63-d382b79764ae",
   "metadata": {},
   "outputs": [],
   "source": [
    "class Cleaner():\n",
    "  def __init__(self):\n",
    "    pass\n",
    "  def put_line_breaks(self,text):\n",
    "    text = text.replace('</p>','</p>\\n')\n",
    "    return text\n",
    "  def remove_html_tags(self,text):\n",
    "    cleantext = BeautifulSoup(text, \"lxml\").text\n",
    "    return cleantext\n",
    "  def clean(self,text):\n",
    "    text = self.put_line_breaks(text)\n",
    "    text = self.remove_html_tags(text)\n",
    "    return text"
   ]
  },
  {
   "cell_type": "code",
   "execution_count": 8,
   "id": "56419a3a-b347-46be-b159-9e0eb431d24a",
   "metadata": {},
   "outputs": [
    {
     "name": "stderr",
     "output_type": "stream",
     "text": [
      "C:\\Users\\wenhao\\AppData\\Local\\Temp\\ipykernel_34920\\4246655815.py:8: MarkupResemblesLocatorWarning: The input looks more like a filename than markup. You may want to open this file and pass the filehandle into Beautiful Soup.\n",
      "  cleantext = BeautifulSoup(text, \"lxml\").text\n"
     ]
    },
    {
     "data": {
      "text/html": [
       "<div>\n",
       "<style scoped>\n",
       "    .dataframe tbody tr th:only-of-type {\n",
       "        vertical-align: middle;\n",
       "    }\n",
       "\n",
       "    .dataframe tbody tr th {\n",
       "        vertical-align: top;\n",
       "    }\n",
       "\n",
       "    .dataframe thead th {\n",
       "        text-align: right;\n",
       "    }\n",
       "</style>\n",
       "<table border=\"1\" class=\"dataframe\">\n",
       "  <thead>\n",
       "    <tr style=\"text-align: right;\">\n",
       "      <th></th>\n",
       "      <th>review</th>\n",
       "      <th>sentiment</th>\n",
       "      <th>text_cleaned</th>\n",
       "    </tr>\n",
       "  </thead>\n",
       "  <tbody>\n",
       "    <tr>\n",
       "      <th>0</th>\n",
       "      <td>One of the other reviewers has mentioned that ...</td>\n",
       "      <td>positive</td>\n",
       "      <td>One of the other reviewers has mentioned that ...</td>\n",
       "    </tr>\n",
       "    <tr>\n",
       "      <th>1</th>\n",
       "      <td>A wonderful little production. &lt;br /&gt;&lt;br /&gt;The...</td>\n",
       "      <td>positive</td>\n",
       "      <td>A wonderful little production. The filming tec...</td>\n",
       "    </tr>\n",
       "    <tr>\n",
       "      <th>2</th>\n",
       "      <td>I thought this was a wonderful way to spend ti...</td>\n",
       "      <td>positive</td>\n",
       "      <td>I thought this was a wonderful way to spend ti...</td>\n",
       "    </tr>\n",
       "    <tr>\n",
       "      <th>3</th>\n",
       "      <td>Basically there's a family where a little boy ...</td>\n",
       "      <td>negative</td>\n",
       "      <td>Basically there's a family where a little boy ...</td>\n",
       "    </tr>\n",
       "    <tr>\n",
       "      <th>4</th>\n",
       "      <td>Petter Mattei's \"Love in the Time of Money\" is...</td>\n",
       "      <td>positive</td>\n",
       "      <td>Petter Mattei's \"Love in the Time of Money\" is...</td>\n",
       "    </tr>\n",
       "  </tbody>\n",
       "</table>\n",
       "</div>"
      ],
      "text/plain": [
       "                                              review sentiment  \\\n",
       "0  One of the other reviewers has mentioned that ...  positive   \n",
       "1  A wonderful little production. <br /><br />The...  positive   \n",
       "2  I thought this was a wonderful way to spend ti...  positive   \n",
       "3  Basically there's a family where a little boy ...  negative   \n",
       "4  Petter Mattei's \"Love in the Time of Money\" is...  positive   \n",
       "\n",
       "                                        text_cleaned  \n",
       "0  One of the other reviewers has mentioned that ...  \n",
       "1  A wonderful little production. The filming tec...  \n",
       "2  I thought this was a wonderful way to spend ti...  \n",
       "3  Basically there's a family where a little boy ...  \n",
       "4  Petter Mattei's \"Love in the Time of Money\" is...  "
      ]
     },
     "execution_count": 8,
     "metadata": {},
     "output_type": "execute_result"
    }
   ],
   "source": [
    "cleaner = Cleaner()\n",
    "df['text_cleaned'] = df[text_column_name].apply(cleaner.clean)\n",
    "df.head()"
   ]
  },
  {
   "cell_type": "code",
   "execution_count": 9,
   "id": "8ec5a583-be97-4a67-8bfa-2393cd105936",
   "metadata": {},
   "outputs": [
    {
     "data": {
      "text/html": [
       "<div>\n",
       "<style scoped>\n",
       "    .dataframe tbody tr th:only-of-type {\n",
       "        vertical-align: middle;\n",
       "    }\n",
       "\n",
       "    .dataframe tbody tr th {\n",
       "        vertical-align: top;\n",
       "    }\n",
       "\n",
       "    .dataframe thead th {\n",
       "        text-align: right;\n",
       "    }\n",
       "</style>\n",
       "<table border=\"1\" class=\"dataframe\">\n",
       "  <thead>\n",
       "    <tr style=\"text-align: right;\">\n",
       "      <th></th>\n",
       "      <th>review</th>\n",
       "      <th>sentiment</th>\n",
       "      <th>text_cleaned</th>\n",
       "      <th>label</th>\n",
       "    </tr>\n",
       "  </thead>\n",
       "  <tbody>\n",
       "    <tr>\n",
       "      <th>0</th>\n",
       "      <td>One of the other reviewers has mentioned that ...</td>\n",
       "      <td>positive</td>\n",
       "      <td>One of the other reviewers has mentioned that ...</td>\n",
       "      <td>1</td>\n",
       "    </tr>\n",
       "    <tr>\n",
       "      <th>1</th>\n",
       "      <td>A wonderful little production. &lt;br /&gt;&lt;br /&gt;The...</td>\n",
       "      <td>positive</td>\n",
       "      <td>A wonderful little production. The filming tec...</td>\n",
       "      <td>1</td>\n",
       "    </tr>\n",
       "    <tr>\n",
       "      <th>2</th>\n",
       "      <td>I thought this was a wonderful way to spend ti...</td>\n",
       "      <td>positive</td>\n",
       "      <td>I thought this was a wonderful way to spend ti...</td>\n",
       "      <td>1</td>\n",
       "    </tr>\n",
       "    <tr>\n",
       "      <th>3</th>\n",
       "      <td>Basically there's a family where a little boy ...</td>\n",
       "      <td>negative</td>\n",
       "      <td>Basically there's a family where a little boy ...</td>\n",
       "      <td>0</td>\n",
       "    </tr>\n",
       "    <tr>\n",
       "      <th>4</th>\n",
       "      <td>Petter Mattei's \"Love in the Time of Money\" is...</td>\n",
       "      <td>positive</td>\n",
       "      <td>Petter Mattei's \"Love in the Time of Money\" is...</td>\n",
       "      <td>1</td>\n",
       "    </tr>\n",
       "  </tbody>\n",
       "</table>\n",
       "</div>"
      ],
      "text/plain": [
       "                                              review sentiment  \\\n",
       "0  One of the other reviewers has mentioned that ...  positive   \n",
       "1  A wonderful little production. <br /><br />The...  positive   \n",
       "2  I thought this was a wonderful way to spend ti...  positive   \n",
       "3  Basically there's a family where a little boy ...  negative   \n",
       "4  Petter Mattei's \"Love in the Time of Money\" is...  positive   \n",
       "\n",
       "                                        text_cleaned  label  \n",
       "0  One of the other reviewers has mentioned that ...      1  \n",
       "1  A wonderful little production. The filming tec...      1  \n",
       "2  I thought this was a wonderful way to spend ti...      1  \n",
       "3  Basically there's a family where a little boy ...      0  \n",
       "4  Petter Mattei's \"Love in the Time of Money\" is...      1  "
      ]
     },
     "execution_count": 9,
     "metadata": {},
     "output_type": "execute_result"
    }
   ],
   "source": [
    "le = preprocessing.LabelEncoder()\n",
    "le.fit(df[label_column_name].tolist())\n",
    "df['label'] = le.transform(df[label_column_name].tolist())\n",
    "df.head()"
   ]
  },
  {
   "cell_type": "code",
   "execution_count": 10,
   "id": "5817828a-fa50-4465-b56e-e737420a6796",
   "metadata": {},
   "outputs": [
    {
     "data": {
      "text/html": [
       "<div>\n",
       "<style scoped>\n",
       "    .dataframe tbody tr th:only-of-type {\n",
       "        vertical-align: middle;\n",
       "    }\n",
       "\n",
       "    .dataframe tbody tr th {\n",
       "        vertical-align: top;\n",
       "    }\n",
       "\n",
       "    .dataframe thead th {\n",
       "        text-align: right;\n",
       "    }\n",
       "</style>\n",
       "<table border=\"1\" class=\"dataframe\">\n",
       "  <thead>\n",
       "    <tr style=\"text-align: right;\">\n",
       "      <th></th>\n",
       "      <th>review</th>\n",
       "      <th>sentiment</th>\n",
       "      <th>text_cleaned</th>\n",
       "      <th>label</th>\n",
       "      <th>wordcount</th>\n",
       "    </tr>\n",
       "  </thead>\n",
       "  <tbody>\n",
       "    <tr>\n",
       "      <th>0</th>\n",
       "      <td>One of the other reviewers has mentioned that ...</td>\n",
       "      <td>positive</td>\n",
       "      <td>One of the other reviewers has mentioned that ...</td>\n",
       "      <td>1</td>\n",
       "      <td>301</td>\n",
       "    </tr>\n",
       "    <tr>\n",
       "      <th>1</th>\n",
       "      <td>A wonderful little production. &lt;br /&gt;&lt;br /&gt;The...</td>\n",
       "      <td>positive</td>\n",
       "      <td>A wonderful little production. The filming tec...</td>\n",
       "      <td>1</td>\n",
       "      <td>156</td>\n",
       "    </tr>\n",
       "    <tr>\n",
       "      <th>2</th>\n",
       "      <td>I thought this was a wonderful way to spend ti...</td>\n",
       "      <td>positive</td>\n",
       "      <td>I thought this was a wonderful way to spend ti...</td>\n",
       "      <td>1</td>\n",
       "      <td>162</td>\n",
       "    </tr>\n",
       "    <tr>\n",
       "      <th>3</th>\n",
       "      <td>Basically there's a family where a little boy ...</td>\n",
       "      <td>negative</td>\n",
       "      <td>Basically there's a family where a little boy ...</td>\n",
       "      <td>0</td>\n",
       "      <td>132</td>\n",
       "    </tr>\n",
       "    <tr>\n",
       "      <th>4</th>\n",
       "      <td>Petter Mattei's \"Love in the Time of Money\" is...</td>\n",
       "      <td>positive</td>\n",
       "      <td>Petter Mattei's \"Love in the Time of Money\" is...</td>\n",
       "      <td>1</td>\n",
       "      <td>222</td>\n",
       "    </tr>\n",
       "  </tbody>\n",
       "</table>\n",
       "</div>"
      ],
      "text/plain": [
       "                                              review sentiment  \\\n",
       "0  One of the other reviewers has mentioned that ...  positive   \n",
       "1  A wonderful little production. <br /><br />The...  positive   \n",
       "2  I thought this was a wonderful way to spend ti...  positive   \n",
       "3  Basically there's a family where a little boy ...  negative   \n",
       "4  Petter Mattei's \"Love in the Time of Money\" is...  positive   \n",
       "\n",
       "                                        text_cleaned  label  wordcount  \n",
       "0  One of the other reviewers has mentioned that ...      1        301  \n",
       "1  A wonderful little production. The filming tec...      1        156  \n",
       "2  I thought this was a wonderful way to spend ti...      1        162  \n",
       "3  Basically there's a family where a little boy ...      0        132  \n",
       "4  Petter Mattei's \"Love in the Time of Money\" is...      1        222  "
      ]
     },
     "execution_count": 10,
     "metadata": {},
     "output_type": "execute_result"
    }
   ],
   "source": [
    "df['wordcount'] = df['text_cleaned'].str.split().str.len()\n",
    "df.head()"
   ]
  },
  {
   "cell_type": "code",
   "execution_count": 11,
   "id": "c71b40c5-6781-4031-a1ad-7fc7b29b59b8",
   "metadata": {},
   "outputs": [
    {
     "data": {
      "text/plain": [
       "count    50000.000000\n",
       "mean       227.114620\n",
       "std        168.278914\n",
       "min          4.000000\n",
       "25%        124.000000\n",
       "50%        170.000000\n",
       "75%        275.000000\n",
       "max       2450.000000\n",
       "Name: wordcount, dtype: float64"
      ]
     },
     "execution_count": 11,
     "metadata": {},
     "output_type": "execute_result"
    }
   ],
   "source": [
    "df.wordcount.describe()"
   ]
  },
  {
   "cell_type": "markdown",
   "id": "3c9e431a-de3e-47a7-948b-df4266a31dce",
   "metadata": {},
   "source": [
    "To help with the upcoming data exploration we have engineered a new feature to show the wordcount of each review entry, and a quick look shows most of the reviews have less than 275 words.\n",
    "\n",
    "<a id='exploration'></a>\n",
    "### 3. Data Exploration\n",
    "Next, we will take a closer look at the distributions of wordcounts to investigate it they show any differences between positive and negative reviews."
   ]
  },
  {
   "cell_type": "code",
   "execution_count": 12,
   "id": "753bf890-3cb9-46eb-95f8-623a8bbe1efc",
   "metadata": {},
   "outputs": [
    {
     "name": "stderr",
     "output_type": "stream",
     "text": [
      "C:\\Users\\wenhao\\anaconda3\\envs\\ML\\Lib\\site-packages\\seaborn\\_oldcore.py:1119: FutureWarning: use_inf_as_na option is deprecated and will be removed in a future version. Convert inf values to NaN before operating instead.\n",
      "  with pd.option_context('mode.use_inf_as_na', True):\n",
      "C:\\Users\\wenhao\\anaconda3\\envs\\ML\\Lib\\site-packages\\seaborn\\_oldcore.py:1119: FutureWarning: use_inf_as_na option is deprecated and will be removed in a future version. Convert inf values to NaN before operating instead.\n",
      "  with pd.option_context('mode.use_inf_as_na', True):\n"
     ]
    },
    {
     "data": {
      "image/png": "[encoded data removed]",
      "text/plain": [
       "<Figure size 640x480 with 2 Axes>"
      ]
     },
     "metadata": {},
     "output_type": "display_data"
    }
   ],
   "source": [
    "fig, (ax1, ax2) = plt.subplots(1, 2, sharex=True)\n",
    "sns.histplot(data=df.loc[df['sentiment']=='positive'], x='wordcount', ax=ax1, binwidth=50)\n",
    "sns.histplot(data=df.loc[df['sentiment']=='negative'], x='wordcount', ax=ax2, binwidth=50)\n",
    "fig.suptitle('Review Wordcount Distribution')\n",
    "ax1.set_title('Positive reviews')\n",
    "ax2.set_title('Negative reviews')\n",
    "fig.tight_layout()"
   ]
  },
  {
   "cell_type": "code",
   "execution_count": 13,
   "id": "45ee3098-cc26-460a-b257-65fe71e0f776",
   "metadata": {},
   "outputs": [
    {
     "data": {
      "image/png": "[encoded data removed]",
      "text/plain": [
       "<Figure size 640x480 with 2 Axes>"
      ]
     },
     "metadata": {},
     "output_type": "display_data"
    }
   ],
   "source": [
    "fig, (ax1, ax2) = plt.subplots(1,2, sharey=True)\n",
    "sns.boxplot(data=df.loc[df['sentiment']=='positive']['wordcount'].values, ax=ax1)\n",
    "sns.boxplot(data=df.loc[df['sentiment']=='negative']['wordcount'].values, ax=ax2)\n",
    "fig.suptitle('Review Wordcount Boxplot')\n",
    "ax1.set_title('Positive reviews')\n",
    "ax2.set_title('Negative reviews')\n",
    "fig.tight_layout()"
   ]
  },
  {
   "cell_type": "markdown",
   "id": "847abaa2-e80b-424a-9606-881a9415c15a",
   "metadata": {},
   "source": [
    "Looking at the above histograms and boxplots of wordcounts for Positive and Negative reviews, we see that the distributions are almost the same, except for a few outliers under our positive reviews.\n",
    "\n",
    "Next we will look at some of the most common words and phrases within the dataset."
   ]
  },
  {
   "cell_type": "code",
   "execution_count": 14,
   "id": "096e6c0b-50e3-4ab5-a98f-178591a3ce0f",
   "metadata": {},
   "outputs": [],
   "source": [
    "def most_common_words(df, n):\n",
    "    corpus = []\n",
    "    stop = set(stopwords.words('english'))\n",
    "    for review in df.text_cleaned:\n",
    "        for word in review.split():\n",
    "            if word.strip().lower() not in stop and word.strip().lower().isalpha():\n",
    "                corpus.append(word.strip())\n",
    "    \n",
    "    counter_words = Counter(corpus).most_common(n)\n",
    "    counter_words = dict(counter_words)\n",
    "    tmp = pd.DataFrame(columns = [\"Word\", 'Count'])\n",
    "    tmp[\"Word\"] = list(counter_words.keys())\n",
    "    tmp['Count'] = list(counter_words.values())\n",
    "    return tmp\n",
    "\n",
    "# def most_common_ngrams(corpus, n, gram):\n",
    "#     vec = CountVectorizer(ngram_range = (gram, gram)).fit(corpus)\n",
    "#     bow = vec.transform(corpus)\n",
    "#     word_sum = bow.sum(axis=0)\n",
    "#     word_freq = [(word, word_sum[0, idx]) for word, idx in vec.vocabulary_.items()]\n",
    "#     word_freq = sorted(word_freq, key = lambda x: x[1], reverse = True)\n",
    "#     return word_freq[:n]\n",
    "\n",
    "def most_common_ngrams(df, n, gram, name):\n",
    "    corpus = []\n",
    "    stop = set(stopwords.words('english'))\n",
    "    for review in df.text_cleaned:\n",
    "        words = review.split()\n",
    "        words = [word for word in words if word not in stop]\n",
    "        for i in range(len(words)-gram+1):\n",
    "            corpus.append(' '.join(words[i:i+gram]))\n",
    "    counter_ngrams = Counter(corpus).most_common(n)\n",
    "    ngrams = dict(counter_ngrams)\n",
    "    tmp = pd.DataFrame(columns = [str(name), 'Count'])\n",
    "    tmp[str(name)] = list(ngrams.keys())\n",
    "    tmp['Count'] = list(ngrams.values())\n",
    "    return tmp"
   ]
  },
  {
   "cell_type": "code",
   "execution_count": 15,
   "id": "d8c4d422-fab3-4073-a1f1-019728e49179",
   "metadata": {},
   "outputs": [],
   "source": [
    "positive_corpus = most_common_words(df.loc[df['sentiment']=='positive'], 10)\n",
    "negative_corpus = most_common_words(df.loc[df['sentiment']=='negative'], 10)\n",
    "\n",
    "positive_bigram = most_common_ngrams(df.loc[df['sentiment']=='positive'], 10, 2, 'Bigram')\n",
    "negative_bigram = most_common_ngrams(df.loc[df['sentiment']=='negative'], 10, 2, 'Bigram')\n",
    "positive_trigram = most_common_ngrams(df.loc[df['sentiment']=='positive'], 10, 3, 'Trigram')\n",
    "negative_trigram = most_common_ngrams(df.loc[df['sentiment']=='negative'], 10, 3, 'Trigram')"
   ]
  },
  {
   "cell_type": "code",
   "execution_count": 16,
   "id": "c46d56bd-4b2f-4a16-80e5-dd1a36b9f510",
   "metadata": {},
   "outputs": [
    {
     "data": {
      "image/png": "[encoded data removed]",
      "text/plain": [
       "<Figure size 640x480 with 2 Axes>"
      ]
     },
     "metadata": {},
     "output_type": "display_data"
    }
   ],
   "source": [
    "fig, (ax1, ax2) = plt.subplots(1,2)\n",
    "sns.barplot(data=positive_corpus, x='Count', y='Word', ax=ax1, palette = 'Paired')\n",
    "sns.barplot(data=negative_corpus, x='Count', y='Word', ax=ax2, palette = 'Paired')\n",
    "fig.suptitle('10 most common words in reviews')\n",
    "ax1.set_title('Positive Review')\n",
    "ax2.set_title('Negative Review')\n",
    "plt.tight_layout()"
   ]
  },
  {
   "cell_type": "code",
   "execution_count": 17,
   "id": "88539c62-6835-4aa6-880c-97b5ed456a4e",
   "metadata": {},
   "outputs": [
    {
     "data": {
      "image/png": "[encoded data removed]",
      "text/plain": [
       "<Figure size 640x480 with 2 Axes>"
      ]
     },
     "metadata": {},
     "output_type": "display_data"
    }
   ],
   "source": [
    "fig, (ax1, ax2) = plt.subplots(1,2)\n",
    "sns.barplot(data=positive_bigram, x='Count', y='Bigram', ax=ax1, palette = 'Paired')\n",
    "sns.barplot(data=negative_bigram, x='Count', y='Bigram', ax=ax2, palette = 'Paired')\n",
    "fig.suptitle('10 most common bigrams in reviews')\n",
    "ax1.set_title('Positive Review')\n",
    "ax2.set_title('Negative Review')\n",
    "plt.tight_layout()"
   ]
  },
  {
   "cell_type": "code",
   "execution_count": 18,
   "id": "c6228364-313a-4778-85dc-532f274651ff",
   "metadata": {},
   "outputs": [
    {
     "data": {
      "image/png": "[encoded data removed]",
      "text/plain": [
       "<Figure size 640x480 with 2 Axes>"
      ]
     },
     "metadata": {},
     "output_type": "display_data"
    }
   ],
   "source": [
    "fig, (ax1, ax2) = plt.subplots(1,2)\n",
    "sns.barplot(data=positive_trigram, x='Count', y='Trigram', ax=ax1, palette = 'Paired')\n",
    "sns.barplot(data=negative_trigram, x='Count', y='Trigram', ax=ax2, palette = 'Paired')\n",
    "fig.suptitle('10 most common trigrams in reviews')\n",
    "ax1.set_title('Positive Review')\n",
    "ax2.set_title('Negative Review')\n",
    "plt.tight_layout()"
   ]
  },
  {
   "cell_type": "markdown",
   "id": "ca56d1ef-3446-438b-8950-1e3c69ae1395",
   "metadata": {},
   "source": [
    "We are able to see phrases such as \"I highly recommend\" and \"I would recommend\" appearing in positive reviews giving a positive connotation while phrases like \"one worst movies\" and \"worst movie I\" appear in negative reviews giving a negative connotation. However, many of the most common words and phrases appear in both positive and negative reviews, suggesting that it would be better to focus on the exact phrases used rather than how frequently they are used.\n",
    "\n",
    "For the purpose of data exploration, the above plots were created after removing stopwords from our dataset, in the next section where we fine tune a BERT model for text classification stopwords will be left in the dataset to provide context clues for our model.\n",
    "\n",
    "***\n",
    "\n",
    "<a id = 'bert'></a>\n",
    "### 4. Modelling (BERT)\n",
    "In this section we will fine tune a BERT model for text classification, due to limited computation power, we will be sampling 10% of the original dataset to use for training and validation, and another 5% as our holdout set for model evaluation after training is completed."
   ]
  },
  {
   "cell_type": "code",
   "execution_count": 19,
   "id": "7ac53069-bb1d-47ed-86a1-c9ed145ad1aa",
   "metadata": {},
   "outputs": [
    {
     "data": {
      "text/html": [
       "<div>\n",
       "<style scoped>\n",
       "    .dataframe tbody tr th:only-of-type {\n",
       "        vertical-align: middle;\n",
       "    }\n",
       "\n",
       "    .dataframe tbody tr th {\n",
       "        vertical-align: top;\n",
       "    }\n",
       "\n",
       "    .dataframe thead th {\n",
       "        text-align: right;\n",
       "    }\n",
       "</style>\n",
       "<table border=\"1\" class=\"dataframe\">\n",
       "  <thead>\n",
       "    <tr style=\"text-align: right;\">\n",
       "      <th></th>\n",
       "      <th>review</th>\n",
       "      <th>sentiment</th>\n",
       "      <th>text_cleaned</th>\n",
       "      <th>true_label</th>\n",
       "      <th>wordcount</th>\n",
       "    </tr>\n",
       "  </thead>\n",
       "  <tbody>\n",
       "    <tr>\n",
       "      <th>16369</th>\n",
       "      <td>Oh, this is such a glorious musical. There's a...</td>\n",
       "      <td>positive</td>\n",
       "      <td>Oh, this is such a glorious musical. There's a...</td>\n",
       "      <td>1</td>\n",
       "      <td>121</td>\n",
       "    </tr>\n",
       "    <tr>\n",
       "      <th>11852</th>\n",
       "      <td>As an old white housewife I can still apprecia...</td>\n",
       "      <td>positive</td>\n",
       "      <td>As an old white housewife I can still apprecia...</td>\n",
       "      <td>1</td>\n",
       "      <td>114</td>\n",
       "    </tr>\n",
       "    <tr>\n",
       "      <th>49783</th>\n",
       "      <td>Saw this movie at the Rotterdam IFF. You may q...</td>\n",
       "      <td>positive</td>\n",
       "      <td>Saw this movie at the Rotterdam IFF. You may q...</td>\n",
       "      <td>1</td>\n",
       "      <td>54</td>\n",
       "    </tr>\n",
       "    <tr>\n",
       "      <th>21792</th>\n",
       "      <td>The minutiae of what's involved in carrying ou...</td>\n",
       "      <td>positive</td>\n",
       "      <td>The minutiae of what's involved in carrying ou...</td>\n",
       "      <td>1</td>\n",
       "      <td>152</td>\n",
       "    </tr>\n",
       "    <tr>\n",
       "      <th>21757</th>\n",
       "      <td>Greetings again from the darkness. What a reli...</td>\n",
       "      <td>positive</td>\n",
       "      <td>Greetings again from the darkness. What a reli...</td>\n",
       "      <td>1</td>\n",
       "      <td>271</td>\n",
       "    </tr>\n",
       "    <tr>\n",
       "      <th>...</th>\n",
       "      <td>...</td>\n",
       "      <td>...</td>\n",
       "      <td>...</td>\n",
       "      <td>...</td>\n",
       "      <td>...</td>\n",
       "    </tr>\n",
       "    <tr>\n",
       "      <th>17962</th>\n",
       "      <td>I'm glad I rented this movie for one reason: i...</td>\n",
       "      <td>negative</td>\n",
       "      <td>I'm glad I rented this movie for one reason: i...</td>\n",
       "      <td>0</td>\n",
       "      <td>148</td>\n",
       "    </tr>\n",
       "    <tr>\n",
       "      <th>34361</th>\n",
       "      <td>Overall, a well done movie. There were the par...</td>\n",
       "      <td>positive</td>\n",
       "      <td>Overall, a well done movie. There were the par...</td>\n",
       "      <td>1</td>\n",
       "      <td>349</td>\n",
       "    </tr>\n",
       "    <tr>\n",
       "      <th>3722</th>\n",
       "      <td>Doesn't anyone bother to check where this kind...</td>\n",
       "      <td>negative</td>\n",
       "      <td>Doesn't anyone bother to check where this kind...</td>\n",
       "      <td>0</td>\n",
       "      <td>200</td>\n",
       "    </tr>\n",
       "    <tr>\n",
       "      <th>38341</th>\n",
       "      <td>Such a long awaited movie.. But it has disappo...</td>\n",
       "      <td>negative</td>\n",
       "      <td>Such a long awaited movie.. But it has disappo...</td>\n",
       "      <td>0</td>\n",
       "      <td>206</td>\n",
       "    </tr>\n",
       "    <tr>\n",
       "      <th>49517</th>\n",
       "      <td>This movie is a terrible attempt at a spoof. I...</td>\n",
       "      <td>negative</td>\n",
       "      <td>This movie is a terrible attempt at a spoof. I...</td>\n",
       "      <td>0</td>\n",
       "      <td>144</td>\n",
       "    </tr>\n",
       "  </tbody>\n",
       "</table>\n",
       "<p>2500 rows × 5 columns</p>\n",
       "</div>"
      ],
      "text/plain": [
       "                                                  review sentiment  \\\n",
       "16369  Oh, this is such a glorious musical. There's a...  positive   \n",
       "11852  As an old white housewife I can still apprecia...  positive   \n",
       "49783  Saw this movie at the Rotterdam IFF. You may q...  positive   \n",
       "21792  The minutiae of what's involved in carrying ou...  positive   \n",
       "21757  Greetings again from the darkness. What a reli...  positive   \n",
       "...                                                  ...       ...   \n",
       "17962  I'm glad I rented this movie for one reason: i...  negative   \n",
       "34361  Overall, a well done movie. There were the par...  positive   \n",
       "3722   Doesn't anyone bother to check where this kind...  negative   \n",
       "38341  Such a long awaited movie.. But it has disappo...  negative   \n",
       "49517  This movie is a terrible attempt at a spoof. I...  negative   \n",
       "\n",
       "                                            text_cleaned  true_label  \\\n",
       "16369  Oh, this is such a glorious musical. There's a...           1   \n",
       "11852  As an old white housewife I can still apprecia...           1   \n",
       "49783  Saw this movie at the Rotterdam IFF. You may q...           1   \n",
       "21792  The minutiae of what's involved in carrying ou...           1   \n",
       "21757  Greetings again from the darkness. What a reli...           1   \n",
       "...                                                  ...         ...   \n",
       "17962  I'm glad I rented this movie for one reason: i...           0   \n",
       "34361  Overall, a well done movie. There were the par...           1   \n",
       "3722   Doesn't anyone bother to check where this kind...           0   \n",
       "38341  Such a long awaited movie.. But it has disappo...           0   \n",
       "49517  This movie is a terrible attempt at a spoof. I...           0   \n",
       "\n",
       "       wordcount  \n",
       "16369        121  \n",
       "11852        114  \n",
       "49783         54  \n",
       "21792        152  \n",
       "21757        271  \n",
       "...          ...  \n",
       "17962        148  \n",
       "34361        349  \n",
       "3722         200  \n",
       "38341        206  \n",
       "49517        144  \n",
       "\n",
       "[2500 rows x 5 columns]"
      ]
     },
     "execution_count": 19,
     "metadata": {},
     "output_type": "execute_result"
    }
   ],
   "source": [
    "# Reduce dataset to 5000 rows maintaining 1:1 ratio of review sentiments, shuffle and reset index\n",
    "data = df.groupby('sentiment').apply(lambda x: x.sample(frac=0.15)).droplevel('sentiment')\n",
    "holdout = pd.concat([data.iloc[:1250],data.iloc[6250:]]).sample(frac=1)\n",
    "holdout = holdout.rename(columns={'label': 'true_label'})\n",
    "holdout"
   ]
  },
  {
   "cell_type": "code",
   "execution_count": 20,
   "id": "cca6f915-51bb-4ad5-b641-cfbbf263ca48",
   "metadata": {},
   "outputs": [
    {
     "data": {
      "text/html": [
       "<div>\n",
       "<style scoped>\n",
       "    .dataframe tbody tr th:only-of-type {\n",
       "        vertical-align: middle;\n",
       "    }\n",
       "\n",
       "    .dataframe tbody tr th {\n",
       "        vertical-align: top;\n",
       "    }\n",
       "\n",
       "    .dataframe thead th {\n",
       "        text-align: right;\n",
       "    }\n",
       "</style>\n",
       "<table border=\"1\" class=\"dataframe\">\n",
       "  <thead>\n",
       "    <tr style=\"text-align: right;\">\n",
       "      <th></th>\n",
       "      <th>review</th>\n",
       "      <th>sentiment</th>\n",
       "      <th>text_cleaned</th>\n",
       "      <th>label</th>\n",
       "      <th>wordcount</th>\n",
       "    </tr>\n",
       "  </thead>\n",
       "  <tbody>\n",
       "    <tr>\n",
       "      <th>29963</th>\n",
       "      <td>This is Peter Falk's film. Period.&lt;br /&gt;&lt;br /&gt;...</td>\n",
       "      <td>negative</td>\n",
       "      <td>This is Peter Falk's film. Period.I was 10 yea...</td>\n",
       "      <td>0</td>\n",
       "      <td>246</td>\n",
       "    </tr>\n",
       "    <tr>\n",
       "      <th>35201</th>\n",
       "      <td>I don't see that much wrong with this movie. G...</td>\n",
       "      <td>positive</td>\n",
       "      <td>I don't see that much wrong with this movie. G...</td>\n",
       "      <td>1</td>\n",
       "      <td>218</td>\n",
       "    </tr>\n",
       "    <tr>\n",
       "      <th>25325</th>\n",
       "      <td>This movie wasn't that bad when compared to th...</td>\n",
       "      <td>negative</td>\n",
       "      <td>This movie wasn't that bad when compared to th...</td>\n",
       "      <td>0</td>\n",
       "      <td>151</td>\n",
       "    </tr>\n",
       "    <tr>\n",
       "      <th>44489</th>\n",
       "      <td>There is no greater disservice to do to histor...</td>\n",
       "      <td>positive</td>\n",
       "      <td>There is no greater disservice to do to histor...</td>\n",
       "      <td>1</td>\n",
       "      <td>538</td>\n",
       "    </tr>\n",
       "    <tr>\n",
       "      <th>7754</th>\n",
       "      <td>Posh Spice Victoria Beckham and her alleged ne...</td>\n",
       "      <td>negative</td>\n",
       "      <td>Posh Spice Victoria Beckham and her alleged ne...</td>\n",
       "      <td>0</td>\n",
       "      <td>657</td>\n",
       "    </tr>\n",
       "    <tr>\n",
       "      <th>...</th>\n",
       "      <td>...</td>\n",
       "      <td>...</td>\n",
       "      <td>...</td>\n",
       "      <td>...</td>\n",
       "      <td>...</td>\n",
       "    </tr>\n",
       "    <tr>\n",
       "      <th>44529</th>\n",
       "      <td>OK from the point of view of an American, who ...</td>\n",
       "      <td>negative</td>\n",
       "      <td>OK from the point of view of an American, who ...</td>\n",
       "      <td>0</td>\n",
       "      <td>189</td>\n",
       "    </tr>\n",
       "    <tr>\n",
       "      <th>11739</th>\n",
       "      <td>I love bad movies: Showgirls, Plan 9 from Oute...</td>\n",
       "      <td>negative</td>\n",
       "      <td>I love bad movies: Showgirls, Plan 9 from Oute...</td>\n",
       "      <td>0</td>\n",
       "      <td>122</td>\n",
       "    </tr>\n",
       "    <tr>\n",
       "      <th>3805</th>\n",
       "      <td>It was probably just my DVD---but I would not ...</td>\n",
       "      <td>negative</td>\n",
       "      <td>It was probably just my DVD---but I would not ...</td>\n",
       "      <td>0</td>\n",
       "      <td>185</td>\n",
       "    </tr>\n",
       "    <tr>\n",
       "      <th>5756</th>\n",
       "      <td>For some unknown reason, 7 years ago, I watche...</td>\n",
       "      <td>negative</td>\n",
       "      <td>For some unknown reason, 7 years ago, I watche...</td>\n",
       "      <td>0</td>\n",
       "      <td>127</td>\n",
       "    </tr>\n",
       "    <tr>\n",
       "      <th>37916</th>\n",
       "      <td>whomever thought of having sequels to Iron Eag...</td>\n",
       "      <td>negative</td>\n",
       "      <td>whomever thought of having sequels to Iron Eag...</td>\n",
       "      <td>0</td>\n",
       "      <td>219</td>\n",
       "    </tr>\n",
       "  </tbody>\n",
       "</table>\n",
       "<p>5000 rows × 5 columns</p>\n",
       "</div>"
      ],
      "text/plain": [
       "                                                  review sentiment  \\\n",
       "29963  This is Peter Falk's film. Period.<br /><br />...  negative   \n",
       "35201  I don't see that much wrong with this movie. G...  positive   \n",
       "25325  This movie wasn't that bad when compared to th...  negative   \n",
       "44489  There is no greater disservice to do to histor...  positive   \n",
       "7754   Posh Spice Victoria Beckham and her alleged ne...  negative   \n",
       "...                                                  ...       ...   \n",
       "44529  OK from the point of view of an American, who ...  negative   \n",
       "11739  I love bad movies: Showgirls, Plan 9 from Oute...  negative   \n",
       "3805   It was probably just my DVD---but I would not ...  negative   \n",
       "5756   For some unknown reason, 7 years ago, I watche...  negative   \n",
       "37916  whomever thought of having sequels to Iron Eag...  negative   \n",
       "\n",
       "                                            text_cleaned  label  wordcount  \n",
       "29963  This is Peter Falk's film. Period.I was 10 yea...      0        246  \n",
       "35201  I don't see that much wrong with this movie. G...      1        218  \n",
       "25325  This movie wasn't that bad when compared to th...      0        151  \n",
       "44489  There is no greater disservice to do to histor...      1        538  \n",
       "7754   Posh Spice Victoria Beckham and her alleged ne...      0        657  \n",
       "...                                                  ...    ...        ...  \n",
       "44529  OK from the point of view of an American, who ...      0        189  \n",
       "11739  I love bad movies: Showgirls, Plan 9 from Oute...      0        122  \n",
       "3805   It was probably just my DVD---but I would not ...      0        185  \n",
       "5756   For some unknown reason, 7 years ago, I watche...      0        127  \n",
       "37916  whomever thought of having sequels to Iron Eag...      0        219  \n",
       "\n",
       "[5000 rows x 5 columns]"
      ]
     },
     "execution_count": 20,
     "metadata": {},
     "output_type": "execute_result"
    }
   ],
   "source": [
    "data = data.iloc[1250:6250].sample(frac=1)\n",
    "data"
   ]
  },
  {
   "cell_type": "code",
   "execution_count": 21,
   "id": "8c298bcc-5273-466b-8e54-42c9adcfd116",
   "metadata": {},
   "outputs": [],
   "source": [
    "# train / validation dataset splits\n",
    "df_train, df_test = train_test_split(data[['text_cleaned','label']], test_size=test_size)"
   ]
  },
  {
   "cell_type": "code",
   "execution_count": 22,
   "id": "82fbeced-e676-42c6-92bb-56490b18cf8c",
   "metadata": {},
   "outputs": [],
   "source": [
    "# converting out pandas dataframes to pytorch datasets\n",
    "train_dataset = Dataset.from_pandas(df_train)\n",
    "test_dataset = Dataset.from_pandas(df_test)"
   ]
  },
  {
   "cell_type": "code",
   "execution_count": 23,
   "id": "5748f2b7-ecca-4a73-be90-fa9fd8cdc4de",
   "metadata": {},
   "outputs": [
    {
     "data": {
      "application/vnd.jupyter.widget-view+json": {
       "model_id": "",
       "version_major": 2,
       "version_minor": 0
      },
      "text/plain": [
       "Map:   0%|          | 0/4000 [00:00<?, ? examples/s]"
      ]
     },
     "metadata": {},
     "output_type": "display_data"
    },
    {
     "data": {
      "application/vnd.jupyter.widget-view+json": {
       "model_id": "",
       "version_major": 2,
       "version_minor": 0
      },
      "text/plain": [
       "Map:   0%|          | 0/1000 [00:00<?, ? examples/s]"
      ]
     },
     "metadata": {},
     "output_type": "display_data"
    }
   ],
   "source": [
    "# tokenizer to convert our words to tokens\n",
    "tokenizer = AutoTokenizer.from_pretrained(model_name, model_max_length=512)\n",
    "\n",
    "def preprocess_function(examples):\n",
    "    return tokenizer(examples[\"text_cleaned\"], truncation=True)\n",
    "\n",
    "tokenized_train = train_dataset.map(preprocess_function, batched=True)\n",
    "tokenized_test = test_dataset.map(preprocess_function, batched=True)"
   ]
  },
  {
   "cell_type": "code",
   "execution_count": 24,
   "id": "aacc3367-a23f-4bf6-9dd7-1155c53d9241",
   "metadata": {},
   "outputs": [
    {
     "name": "stderr",
     "output_type": "stream",
     "text": [
      "Some weights of DistilBertForSequenceClassification were not initialized from the model checkpoint at distilbert-base-uncased and are newly initialized: ['classifier.weight', 'classifier.bias', 'pre_classifier.weight', 'pre_classifier.bias']\n",
      "You should probably TRAIN this model on a down-stream task to be able to use it for predictions and inference.\n"
     ]
    }
   ],
   "source": [
    "model = AutoModelForSequenceClassification.from_pretrained(model_name, num_labels=2)"
   ]
  },
  {
   "cell_type": "code",
   "execution_count": 25,
   "id": "13dd2056-ef3d-40a5-b4b2-8d33274871f0",
   "metadata": {},
   "outputs": [],
   "source": [
    "data_collator = DataCollatorWithPadding(tokenizer=tokenizer)"
   ]
  },
  {
   "cell_type": "code",
   "execution_count": 26,
   "id": "f99adef7-f4e6-461d-adf5-f83346e23b4d",
   "metadata": {},
   "outputs": [],
   "source": [
    "metric = evaluate.load(\"accuracy\")\n",
    "\n",
    "def compute_metrics(eval_pred):\n",
    "    logits, labels = eval_pred\n",
    "    predictions = np.argmax(logits, axis=-1)\n",
    "    return metric.compute(predictions=predictions, references=labels)"
   ]
  },
  {
   "cell_type": "code",
   "execution_count": 29,
   "id": "9e50ac51-928d-4d56-909f-0dee3515c0c7",
   "metadata": {},
   "outputs": [],
   "source": [
    "training_args = TrainingArguments(\n",
    "    output_dir=\"./results\",\n",
    "    learning_rate=2e-5,\n",
    "    per_device_train_batch_size=16,\n",
    "    per_device_eval_batch_size=16,\n",
    "    num_train_epochs=5,\n",
    "    weight_decay=0.01,\n",
    "    evaluation_strategy = \"epoch\",\n",
    "    logging_strategy=\"epoch\"\n",
    ")\n",
    "\n",
    "trainer = Trainer(\n",
    "    model=model,\n",
    "    args=training_args,\n",
    "    train_dataset=tokenized_train,\n",
    "    eval_dataset=tokenized_test,\n",
    "    tokenizer=tokenizer,\n",
    "    data_collator=data_collator,\n",
    "    compute_metrics=compute_metrics\n",
    "    \n",
    ")"
   ]
  },
  {
   "cell_type": "code",
   "execution_count": 30,
   "id": "5f7fa69a-3d7b-4815-9d17-7d14a88e8359",
   "metadata": {},
   "outputs": [
    {
     "data": {
      "text/html": [
       "\n",
       "    <div>\n",
       "      \n",
       "      <progress value='1250' max='1250' style='width:300px; height:20px; vertical-align: middle;'></progress>\n",
       "      [1250/1250 08:39, Epoch 5/5]\n",
       "    </div>\n",
       "    <table border=\"1\" class=\"dataframe\">\n",
       "  <thead>\n",
       " <tr style=\"text-align: left;\">\n",
       "      <th>Epoch</th>\n",
       "      <th>Training Loss</th>\n",
       "      <th>Validation Loss</th>\n",
       "      <th>Accuracy</th>\n",
       "    </tr>\n",
       "  </thead>\n",
       "  <tbody>\n",
       "    <tr>\n",
       "      <td>1</td>\n",
       "      <td>0.359300</td>\n",
       "      <td>0.253881</td>\n",
       "      <td>0.901000</td>\n",
       "    </tr>\n",
       "    <tr>\n",
       "      <td>2</td>\n",
       "      <td>0.176800</td>\n",
       "      <td>0.296619</td>\n",
       "      <td>0.906000</td>\n",
       "    </tr>\n",
       "    <tr>\n",
       "      <td>3</td>\n",
       "      <td>0.095000</td>\n",
       "      <td>0.434078</td>\n",
       "      <td>0.895000</td>\n",
       "    </tr>\n",
       "    <tr>\n",
       "      <td>4</td>\n",
       "      <td>0.041500</td>\n",
       "      <td>0.437259</td>\n",
       "      <td>0.906000</td>\n",
       "    </tr>\n",
       "    <tr>\n",
       "      <td>5</td>\n",
       "      <td>0.019900</td>\n",
       "      <td>0.460906</td>\n",
       "      <td>0.904000</td>\n",
       "    </tr>\n",
       "  </tbody>\n",
       "</table><p>"
      ],
      "text/plain": [
       "<IPython.core.display.HTML object>"
      ]
     },
     "metadata": {},
     "output_type": "display_data"
    },
    {
     "data": {
      "text/plain": [
       "TrainOutput(global_step=1250, training_loss=0.13849494819641114, metrics={'train_runtime': 520.6204, 'train_samples_per_second': 38.416, 'train_steps_per_second': 2.401, 'total_flos': 2603187224294592.0, 'train_loss': 0.13849494819641114, 'epoch': 5.0})"
      ]
     },
     "execution_count": 30,
     "metadata": {},
     "output_type": "execute_result"
    }
   ],
   "source": [
    "trainer.train()"
   ]
  },
  {
   "cell_type": "markdown",
   "id": "75cb4dcd-25ff-4308-b07c-b1fbd6dee3cf",
   "metadata": {},
   "source": [
    "It appears that validation loss has increased after the first epoch while training loss continued to decrease, suggesting some overfitting happening in this case. However, looking at validation accuracy we see that the performance of the remained constant through all 5 epochs.\n",
    "\n",
    "We will see if this performance holds true for our holdout set, extracting the model's predictions (label and score) from our pipeline."
   ]
  },
  {
   "cell_type": "code",
   "execution_count": 31,
   "id": "12c0c5c3-b7b8-49f7-bdab-e893402b3d59",
   "metadata": {},
   "outputs": [],
   "source": [
    "from transformers import pipeline\n",
    "classifier = pipeline(\n",
    "    task='text-classification',\n",
    "    model=model,\n",
    "    tokenizer=tokenizer,\n",
    "    device=0,\n",
    "    truncation=True,\n",
    "    batch_size=8\n",
    ")"
   ]
  },
  {
   "cell_type": "code",
   "execution_count": 32,
   "id": "b67c74f8-7496-4dc6-9a00-9b6389f355fa",
   "metadata": {
    "scrolled": true
   },
   "outputs": [
    {
     "name": "stderr",
     "output_type": "stream",
     "text": [
      "C:\\Users\\wenhao\\anaconda3\\envs\\ML\\Lib\\site-packages\\transformers\\pipelines\\base.py:1090: UserWarning: You seem to be using the pipelines sequentially on GPU. In order to maximize efficiency please use a dataset\n",
      "  warnings.warn(\n"
     ]
    },
    {
     "data": {
      "text/html": [
       "<div>\n",
       "<style scoped>\n",
       "    .dataframe tbody tr th:only-of-type {\n",
       "        vertical-align: middle;\n",
       "    }\n",
       "\n",
       "    .dataframe tbody tr th {\n",
       "        vertical-align: top;\n",
       "    }\n",
       "\n",
       "    .dataframe thead th {\n",
       "        text-align: right;\n",
       "    }\n",
       "</style>\n",
       "<table border=\"1\" class=\"dataframe\">\n",
       "  <thead>\n",
       "    <tr style=\"text-align: right;\">\n",
       "      <th></th>\n",
       "      <th>review</th>\n",
       "      <th>sentiment</th>\n",
       "      <th>text_cleaned</th>\n",
       "      <th>true_label</th>\n",
       "      <th>wordcount</th>\n",
       "      <th>result</th>\n",
       "      <th>score</th>\n",
       "    </tr>\n",
       "  </thead>\n",
       "  <tbody>\n",
       "    <tr>\n",
       "      <th>16369</th>\n",
       "      <td>Oh, this is such a glorious musical. There's a...</td>\n",
       "      <td>LABEL_1</td>\n",
       "      <td>Oh, this is such a glorious musical. There's a...</td>\n",
       "      <td>1</td>\n",
       "      <td>121</td>\n",
       "      <td>[{'label': 'LABEL_1', 'score': 0.9983893632888...</td>\n",
       "      <td>0.998389</td>\n",
       "    </tr>\n",
       "    <tr>\n",
       "      <th>11852</th>\n",
       "      <td>As an old white housewife I can still apprecia...</td>\n",
       "      <td>LABEL_1</td>\n",
       "      <td>As an old white housewife I can still apprecia...</td>\n",
       "      <td>1</td>\n",
       "      <td>114</td>\n",
       "      <td>[{'label': 'LABEL_1', 'score': 0.9985773563385...</td>\n",
       "      <td>0.998577</td>\n",
       "    </tr>\n",
       "    <tr>\n",
       "      <th>49783</th>\n",
       "      <td>Saw this movie at the Rotterdam IFF. You may q...</td>\n",
       "      <td>LABEL_0</td>\n",
       "      <td>Saw this movie at the Rotterdam IFF. You may q...</td>\n",
       "      <td>1</td>\n",
       "      <td>54</td>\n",
       "      <td>[{'label': 'LABEL_0', 'score': 0.7969191670417...</td>\n",
       "      <td>0.796919</td>\n",
       "    </tr>\n",
       "    <tr>\n",
       "      <th>21792</th>\n",
       "      <td>The minutiae of what's involved in carrying ou...</td>\n",
       "      <td>LABEL_1</td>\n",
       "      <td>The minutiae of what's involved in carrying ou...</td>\n",
       "      <td>1</td>\n",
       "      <td>152</td>\n",
       "      <td>[{'label': 'LABEL_1', 'score': 0.9989652633666...</td>\n",
       "      <td>0.998965</td>\n",
       "    </tr>\n",
       "    <tr>\n",
       "      <th>21757</th>\n",
       "      <td>Greetings again from the darkness. What a reli...</td>\n",
       "      <td>LABEL_1</td>\n",
       "      <td>Greetings again from the darkness. What a reli...</td>\n",
       "      <td>1</td>\n",
       "      <td>271</td>\n",
       "      <td>[{'label': 'LABEL_1', 'score': 0.9985762834548...</td>\n",
       "      <td>0.998576</td>\n",
       "    </tr>\n",
       "    <tr>\n",
       "      <th>...</th>\n",
       "      <td>...</td>\n",
       "      <td>...</td>\n",
       "      <td>...</td>\n",
       "      <td>...</td>\n",
       "      <td>...</td>\n",
       "      <td>...</td>\n",
       "      <td>...</td>\n",
       "    </tr>\n",
       "    <tr>\n",
       "      <th>17962</th>\n",
       "      <td>I'm glad I rented this movie for one reason: i...</td>\n",
       "      <td>LABEL_0</td>\n",
       "      <td>I'm glad I rented this movie for one reason: i...</td>\n",
       "      <td>0</td>\n",
       "      <td>148</td>\n",
       "      <td>[{'label': 'LABEL_0', 'score': 0.9990332126617...</td>\n",
       "      <td>0.999033</td>\n",
       "    </tr>\n",
       "    <tr>\n",
       "      <th>34361</th>\n",
       "      <td>Overall, a well done movie. There were the par...</td>\n",
       "      <td>LABEL_0</td>\n",
       "      <td>Overall, a well done movie. There were the par...</td>\n",
       "      <td>1</td>\n",
       "      <td>349</td>\n",
       "      <td>[{'label': 'LABEL_0', 'score': 0.9182419180870...</td>\n",
       "      <td>0.918242</td>\n",
       "    </tr>\n",
       "    <tr>\n",
       "      <th>3722</th>\n",
       "      <td>Doesn't anyone bother to check where this kind...</td>\n",
       "      <td>LABEL_0</td>\n",
       "      <td>Doesn't anyone bother to check where this kind...</td>\n",
       "      <td>0</td>\n",
       "      <td>200</td>\n",
       "      <td>[{'label': 'LABEL_0', 'score': 0.9989865422248...</td>\n",
       "      <td>0.998987</td>\n",
       "    </tr>\n",
       "    <tr>\n",
       "      <th>38341</th>\n",
       "      <td>Such a long awaited movie.. But it has disappo...</td>\n",
       "      <td>LABEL_0</td>\n",
       "      <td>Such a long awaited movie.. But it has disappo...</td>\n",
       "      <td>0</td>\n",
       "      <td>206</td>\n",
       "      <td>[{'label': 'LABEL_0', 'score': 0.9987562894821...</td>\n",
       "      <td>0.998756</td>\n",
       "    </tr>\n",
       "    <tr>\n",
       "      <th>49517</th>\n",
       "      <td>This movie is a terrible attempt at a spoof. I...</td>\n",
       "      <td>LABEL_0</td>\n",
       "      <td>This movie is a terrible attempt at a spoof. I...</td>\n",
       "      <td>0</td>\n",
       "      <td>144</td>\n",
       "      <td>[{'label': 'LABEL_0', 'score': 0.9990750551223...</td>\n",
       "      <td>0.999075</td>\n",
       "    </tr>\n",
       "  </tbody>\n",
       "</table>\n",
       "<p>2500 rows × 7 columns</p>\n",
       "</div>"
      ],
      "text/plain": [
       "                                                  review sentiment  \\\n",
       "16369  Oh, this is such a glorious musical. There's a...   LABEL_1   \n",
       "11852  As an old white housewife I can still apprecia...   LABEL_1   \n",
       "49783  Saw this movie at the Rotterdam IFF. You may q...   LABEL_0   \n",
       "21792  The minutiae of what's involved in carrying ou...   LABEL_1   \n",
       "21757  Greetings again from the darkness. What a reli...   LABEL_1   \n",
       "...                                                  ...       ...   \n",
       "17962  I'm glad I rented this movie for one reason: i...   LABEL_0   \n",
       "34361  Overall, a well done movie. There were the par...   LABEL_0   \n",
       "3722   Doesn't anyone bother to check where this kind...   LABEL_0   \n",
       "38341  Such a long awaited movie.. But it has disappo...   LABEL_0   \n",
       "49517  This movie is a terrible attempt at a spoof. I...   LABEL_0   \n",
       "\n",
       "                                            text_cleaned  true_label  \\\n",
       "16369  Oh, this is such a glorious musical. There's a...           1   \n",
       "11852  As an old white housewife I can still apprecia...           1   \n",
       "49783  Saw this movie at the Rotterdam IFF. You may q...           1   \n",
       "21792  The minutiae of what's involved in carrying ou...           1   \n",
       "21757  Greetings again from the darkness. What a reli...           1   \n",
       "...                                                  ...         ...   \n",
       "17962  I'm glad I rented this movie for one reason: i...           0   \n",
       "34361  Overall, a well done movie. There were the par...           1   \n",
       "3722   Doesn't anyone bother to check where this kind...           0   \n",
       "38341  Such a long awaited movie.. But it has disappo...           0   \n",
       "49517  This movie is a terrible attempt at a spoof. I...           0   \n",
       "\n",
       "       wordcount                                             result     score  \n",
       "16369        121  [{'label': 'LABEL_1', 'score': 0.9983893632888...  0.998389  \n",
       "11852        114  [{'label': 'LABEL_1', 'score': 0.9985773563385...  0.998577  \n",
       "49783         54  [{'label': 'LABEL_0', 'score': 0.7969191670417...  0.796919  \n",
       "21792        152  [{'label': 'LABEL_1', 'score': 0.9989652633666...  0.998965  \n",
       "21757        271  [{'label': 'LABEL_1', 'score': 0.9985762834548...  0.998576  \n",
       "...          ...                                                ...       ...  \n",
       "17962        148  [{'label': 'LABEL_0', 'score': 0.9990332126617...  0.999033  \n",
       "34361        349  [{'label': 'LABEL_0', 'score': 0.9182419180870...  0.918242  \n",
       "3722         200  [{'label': 'LABEL_0', 'score': 0.9989865422248...  0.998987  \n",
       "38341        206  [{'label': 'LABEL_0', 'score': 0.9987562894821...  0.998756  \n",
       "49517        144  [{'label': 'LABEL_0', 'score': 0.9990750551223...  0.999075  \n",
       "\n",
       "[2500 rows x 7 columns]"
      ]
     },
     "execution_count": 32,
     "metadata": {},
     "output_type": "execute_result"
    }
   ],
   "source": [
    "holdout['result'] = holdout['text_cleaned'].apply(lambda x: classifier(x))\n",
    "holdout['sentiment'] = holdout['result'].str[0].str['label']\n",
    "holdout['score'] = holdout['result'].str[0].str['score']\n",
    "holdout"
   ]
  },
  {
   "cell_type": "code",
   "execution_count": 33,
   "id": "78208b9e-d8de-4104-9cac-181e2460bec6",
   "metadata": {},
   "outputs": [],
   "source": [
    "holdout['sentiment']= holdout['sentiment'].map({'LABEL_1':1, 'LABEL_0':0})"
   ]
  },
  {
   "cell_type": "code",
   "execution_count": 34,
   "id": "5d25a536-e31b-4b48-9b1d-bdc64bed2b65",
   "metadata": {},
   "outputs": [
    {
     "data": {
      "text/html": [
       "<div>\n",
       "<style scoped>\n",
       "    .dataframe tbody tr th:only-of-type {\n",
       "        vertical-align: middle;\n",
       "    }\n",
       "\n",
       "    .dataframe tbody tr th {\n",
       "        vertical-align: top;\n",
       "    }\n",
       "\n",
       "    .dataframe thead th {\n",
       "        text-align: right;\n",
       "    }\n",
       "</style>\n",
       "<table border=\"1\" class=\"dataframe\">\n",
       "  <thead>\n",
       "    <tr style=\"text-align: right;\">\n",
       "      <th></th>\n",
       "      <th>review</th>\n",
       "      <th>sentiment</th>\n",
       "      <th>text_cleaned</th>\n",
       "      <th>true_label</th>\n",
       "      <th>wordcount</th>\n",
       "      <th>result</th>\n",
       "      <th>score</th>\n",
       "    </tr>\n",
       "  </thead>\n",
       "  <tbody>\n",
       "    <tr>\n",
       "      <th>16369</th>\n",
       "      <td>Oh, this is such a glorious musical. There's a...</td>\n",
       "      <td>1</td>\n",
       "      <td>Oh, this is such a glorious musical. There's a...</td>\n",
       "      <td>1</td>\n",
       "      <td>121</td>\n",
       "      <td>[{'label': 'LABEL_1', 'score': 0.9983893632888...</td>\n",
       "      <td>0.998389</td>\n",
       "    </tr>\n",
       "    <tr>\n",
       "      <th>11852</th>\n",
       "      <td>As an old white housewife I can still apprecia...</td>\n",
       "      <td>1</td>\n",
       "      <td>As an old white housewife I can still apprecia...</td>\n",
       "      <td>1</td>\n",
       "      <td>114</td>\n",
       "      <td>[{'label': 'LABEL_1', 'score': 0.9985773563385...</td>\n",
       "      <td>0.998577</td>\n",
       "    </tr>\n",
       "    <tr>\n",
       "      <th>49783</th>\n",
       "      <td>Saw this movie at the Rotterdam IFF. You may q...</td>\n",
       "      <td>0</td>\n",
       "      <td>Saw this movie at the Rotterdam IFF. You may q...</td>\n",
       "      <td>1</td>\n",
       "      <td>54</td>\n",
       "      <td>[{'label': 'LABEL_0', 'score': 0.7969191670417...</td>\n",
       "      <td>0.796919</td>\n",
       "    </tr>\n",
       "    <tr>\n",
       "      <th>21792</th>\n",
       "      <td>The minutiae of what's involved in carrying ou...</td>\n",
       "      <td>1</td>\n",
       "      <td>The minutiae of what's involved in carrying ou...</td>\n",
       "      <td>1</td>\n",
       "      <td>152</td>\n",
       "      <td>[{'label': 'LABEL_1', 'score': 0.9989652633666...</td>\n",
       "      <td>0.998965</td>\n",
       "    </tr>\n",
       "    <tr>\n",
       "      <th>21757</th>\n",
       "      <td>Greetings again from the darkness. What a reli...</td>\n",
       "      <td>1</td>\n",
       "      <td>Greetings again from the darkness. What a reli...</td>\n",
       "      <td>1</td>\n",
       "      <td>271</td>\n",
       "      <td>[{'label': 'LABEL_1', 'score': 0.9985762834548...</td>\n",
       "      <td>0.998576</td>\n",
       "    </tr>\n",
       "    <tr>\n",
       "      <th>...</th>\n",
       "      <td>...</td>\n",
       "      <td>...</td>\n",
       "      <td>...</td>\n",
       "      <td>...</td>\n",
       "      <td>...</td>\n",
       "      <td>...</td>\n",
       "      <td>...</td>\n",
       "    </tr>\n",
       "    <tr>\n",
       "      <th>17962</th>\n",
       "      <td>I'm glad I rented this movie for one reason: i...</td>\n",
       "      <td>0</td>\n",
       "      <td>I'm glad I rented this movie for one reason: i...</td>\n",
       "      <td>0</td>\n",
       "      <td>148</td>\n",
       "      <td>[{'label': 'LABEL_0', 'score': 0.9990332126617...</td>\n",
       "      <td>0.999033</td>\n",
       "    </tr>\n",
       "    <tr>\n",
       "      <th>34361</th>\n",
       "      <td>Overall, a well done movie. There were the par...</td>\n",
       "      <td>0</td>\n",
       "      <td>Overall, a well done movie. There were the par...</td>\n",
       "      <td>1</td>\n",
       "      <td>349</td>\n",
       "      <td>[{'label': 'LABEL_0', 'score': 0.9182419180870...</td>\n",
       "      <td>0.918242</td>\n",
       "    </tr>\n",
       "    <tr>\n",
       "      <th>3722</th>\n",
       "      <td>Doesn't anyone bother to check where this kind...</td>\n",
       "      <td>0</td>\n",
       "      <td>Doesn't anyone bother to check where this kind...</td>\n",
       "      <td>0</td>\n",
       "      <td>200</td>\n",
       "      <td>[{'label': 'LABEL_0', 'score': 0.9989865422248...</td>\n",
       "      <td>0.998987</td>\n",
       "    </tr>\n",
       "    <tr>\n",
       "      <th>38341</th>\n",
       "      <td>Such a long awaited movie.. But it has disappo...</td>\n",
       "      <td>0</td>\n",
       "      <td>Such a long awaited movie.. But it has disappo...</td>\n",
       "      <td>0</td>\n",
       "      <td>206</td>\n",
       "      <td>[{'label': 'LABEL_0', 'score': 0.9987562894821...</td>\n",
       "      <td>0.998756</td>\n",
       "    </tr>\n",
       "    <tr>\n",
       "      <th>49517</th>\n",
       "      <td>This movie is a terrible attempt at a spoof. I...</td>\n",
       "      <td>0</td>\n",
       "      <td>This movie is a terrible attempt at a spoof. I...</td>\n",
       "      <td>0</td>\n",
       "      <td>144</td>\n",
       "      <td>[{'label': 'LABEL_0', 'score': 0.9990750551223...</td>\n",
       "      <td>0.999075</td>\n",
       "    </tr>\n",
       "  </tbody>\n",
       "</table>\n",
       "<p>2500 rows × 7 columns</p>\n",
       "</div>"
      ],
      "text/plain": [
       "                                                  review  sentiment  \\\n",
       "16369  Oh, this is such a glorious musical. There's a...          1   \n",
       "11852  As an old white housewife I can still apprecia...          1   \n",
       "49783  Saw this movie at the Rotterdam IFF. You may q...          0   \n",
       "21792  The minutiae of what's involved in carrying ou...          1   \n",
       "21757  Greetings again from the darkness. What a reli...          1   \n",
       "...                                                  ...        ...   \n",
       "17962  I'm glad I rented this movie for one reason: i...          0   \n",
       "34361  Overall, a well done movie. There were the par...          0   \n",
       "3722   Doesn't anyone bother to check where this kind...          0   \n",
       "38341  Such a long awaited movie.. But it has disappo...          0   \n",
       "49517  This movie is a terrible attempt at a spoof. I...          0   \n",
       "\n",
       "                                            text_cleaned  true_label  \\\n",
       "16369  Oh, this is such a glorious musical. There's a...           1   \n",
       "11852  As an old white housewife I can still apprecia...           1   \n",
       "49783  Saw this movie at the Rotterdam IFF. You may q...           1   \n",
       "21792  The minutiae of what's involved in carrying ou...           1   \n",
       "21757  Greetings again from the darkness. What a reli...           1   \n",
       "...                                                  ...         ...   \n",
       "17962  I'm glad I rented this movie for one reason: i...           0   \n",
       "34361  Overall, a well done movie. There were the par...           1   \n",
       "3722   Doesn't anyone bother to check where this kind...           0   \n",
       "38341  Such a long awaited movie.. But it has disappo...           0   \n",
       "49517  This movie is a terrible attempt at a spoof. I...           0   \n",
       "\n",
       "       wordcount                                             result     score  \n",
       "16369        121  [{'label': 'LABEL_1', 'score': 0.9983893632888...  0.998389  \n",
       "11852        114  [{'label': 'LABEL_1', 'score': 0.9985773563385...  0.998577  \n",
       "49783         54  [{'label': 'LABEL_0', 'score': 0.7969191670417...  0.796919  \n",
       "21792        152  [{'label': 'LABEL_1', 'score': 0.9989652633666...  0.998965  \n",
       "21757        271  [{'label': 'LABEL_1', 'score': 0.9985762834548...  0.998576  \n",
       "...          ...                                                ...       ...  \n",
       "17962        148  [{'label': 'LABEL_0', 'score': 0.9990332126617...  0.999033  \n",
       "34361        349  [{'label': 'LABEL_0', 'score': 0.9182419180870...  0.918242  \n",
       "3722         200  [{'label': 'LABEL_0', 'score': 0.9989865422248...  0.998987  \n",
       "38341        206  [{'label': 'LABEL_0', 'score': 0.9987562894821...  0.998756  \n",
       "49517        144  [{'label': 'LABEL_0', 'score': 0.9990750551223...  0.999075  \n",
       "\n",
       "[2500 rows x 7 columns]"
      ]
     },
     "execution_count": 34,
     "metadata": {},
     "output_type": "execute_result"
    }
   ],
   "source": [
    "holdout"
   ]
  },
  {
   "cell_type": "code",
   "execution_count": 35,
   "id": "c94f4307-1827-4ead-93a0-2771ae14dc27",
   "metadata": {},
   "outputs": [
    {
     "name": "stdout",
     "output_type": "stream",
     "text": [
      "Accuracy:  0.9044\n",
      "F1:  0.9051210797935689\n",
      "Confusion Matrix:  [[1121  129]\n",
      " [ 110 1140]]\n"
     ]
    }
   ],
   "source": [
    "print('Accuracy: ', accuracy_score(holdout['true_label'], holdout['sentiment']))\n",
    "print('F1: ', f1_score(holdout['true_label'], holdout['sentiment']))\n",
    "print('Confusion Matrix: ', confusion_matrix(holdout['true_label'], holdout['sentiment']))"
   ]
  },
  {
   "cell_type": "markdown",
   "id": "55b491a9-35fb-4452-86ce-e6dd677ebaab",
   "metadata": {},
   "source": [
    "Predicting on our holdout set, we see that the model achieves approximately 90.44% accuracy and an F1 score of 0.9051. This is consistent with our validation accuracy while training, suggesting that the model will perform well on similar reviews that are unseen.\n",
    "\n",
    "***\n",
    "\n",
    "<a id='conclusion'></a>\n",
    "### 5. Conclusion\n",
    "In this notebook we have explored the IMDB Movie Reviews dataset using some techniques commonly found in NLP and sentiment analysis. We have also fine tuned a text classificaiton model on DistilBert, achieving a good performance of ~90% accuracy on unseen dataset."
   ]
  }
 ],
 "metadata": {
  "kernelspec": {
   "display_name": "Python 3 (ipykernel)",
   "language": "python",
   "name": "python3"
  },
  "language_info": {
   "codemirror_mode": {
    "name": "ipython",
    "version": 3
   },
   "file_extension": ".py",
   "mimetype": "text/x-python",
   "name": "python",
   "nbconvert_exporter": "python",
   "pygments_lexer": "ipython3",
   "version": "3.11.7"
  }
 },
 "nbformat": 4,
 "nbformat_minor": 5
}
