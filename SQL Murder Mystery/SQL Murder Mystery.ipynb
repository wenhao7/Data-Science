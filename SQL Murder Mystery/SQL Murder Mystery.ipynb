{
 "cells": [
  {
   "cell_type": "markdown",
   "id": "extensive-dependence",
   "metadata": {},
   "source": [
    "# SQL Murder Mystery\n",
    "\n",
    "In this notebook we will be solving the [SQL Murder Mystery](https://mystery.knightlab.com) designed by [Knight Lab](https://knightlab.northwestern.edu), a fun little game where we have to solve the crime by querying the database.\n",
    "\n",
    "To begin with we will connect to the database. The %sql magic allows us to issue SQL commands within this notebook."
   ]
  },
  {
   "cell_type": "code",
   "execution_count": 1,
   "id": "complete-booth",
   "metadata": {},
   "outputs": [],
   "source": [
    "%load_ext sql"
   ]
  },
  {
   "cell_type": "code",
   "execution_count": 2,
   "id": "manual-director",
   "metadata": {},
   "outputs": [],
   "source": [
    "%sql sqlite:///sql-murder-mystery.db"
   ]
  },
  {
   "cell_type": "markdown",
   "id": "continental-absorption",
   "metadata": {},
   "source": [
    "## Prompt\n",
    "A prompt is provided to get us started on solving this mystery.\n",
    "\n",
    ">A crime has taken place and the detective needs your help. The detective gave you the \n",
    "crime scene report, but you somehow lost it. You vaguely remember that the crime \n",
    "was a **murder** that occurred sometime on **Jan.15, 2018** and that it took place in **SQL \n",
    "City**. Start by retrieving the corresponding crime scene report from the police \n",
    "department’s database."
   ]
  },
  {
   "cell_type": "code",
   "execution_count": 3,
   "id": "convertible-injection",
   "metadata": {},
   "outputs": [
    {
     "name": "stdout",
     "output_type": "stream",
     "text": [
      " * sqlite:///sql-murder-mystery.db\n",
      "Done.\n"
     ]
    },
    {
     "data": {
      "text/html": [
       "<table>\n",
       "    <tr>\n",
       "        <th>name</th>\n",
       "    </tr>\n",
       "    <tr>\n",
       "        <td>crime_scene_report</td>\n",
       "    </tr>\n",
       "    <tr>\n",
       "        <td>drivers_license</td>\n",
       "    </tr>\n",
       "    <tr>\n",
       "        <td>person</td>\n",
       "    </tr>\n",
       "    <tr>\n",
       "        <td>facebook_event_checkin</td>\n",
       "    </tr>\n",
       "    <tr>\n",
       "        <td>interview</td>\n",
       "    </tr>\n",
       "    <tr>\n",
       "        <td>get_fit_now_member</td>\n",
       "    </tr>\n",
       "    <tr>\n",
       "        <td>get_fit_now_check_in</td>\n",
       "    </tr>\n",
       "    <tr>\n",
       "        <td>income</td>\n",
       "    </tr>\n",
       "    <tr>\n",
       "        <td>solution</td>\n",
       "    </tr>\n",
       "</table>"
      ],
      "text/plain": [
       "[('crime_scene_report',),\n",
       " ('drivers_license',),\n",
       " ('person',),\n",
       " ('facebook_event_checkin',),\n",
       " ('interview',),\n",
       " ('get_fit_now_member',),\n",
       " ('get_fit_now_check_in',),\n",
       " ('income',),\n",
       " ('solution',)]"
      ]
     },
     "execution_count": 3,
     "metadata": {},
     "output_type": "execute_result"
    }
   ],
   "source": [
    "%sql SELECT name \\\n",
    "FROM sqlite_master \\\n",
    "WHERE type = 'table'"
   ]
  },
  {
   "cell_type": "markdown",
   "id": "ongoing-vaccine",
   "metadata": {},
   "source": [
    "The above shows the different tables available in the database. According to the prompt, crime_scene_report should be the first table we explore.\n",
    "\n",
    "## Crime Scene Report"
   ]
  },
  {
   "cell_type": "code",
   "execution_count": 4,
   "id": "impaired-holocaust",
   "metadata": {},
   "outputs": [
    {
     "name": "stdout",
     "output_type": "stream",
     "text": [
      " * sqlite:///sql-murder-mystery.db\n",
      "Done.\n"
     ]
    },
    {
     "data": {
      "text/html": [
       "<table>\n",
       "    <tr>\n",
       "        <th>sql</th>\n",
       "    </tr>\n",
       "    <tr>\n",
       "        <td>CREATE TABLE crime_scene_report (<br>        date integer,<br>        type text,<br>        description text,<br>        city text<br>    )</td>\n",
       "    </tr>\n",
       "</table>"
      ],
      "text/plain": [
       "[('CREATE TABLE crime_scene_report (\\n        date integer,\\n        type text,\\n        description text,\\n        city text\\n    )',)]"
      ]
     },
     "execution_count": 4,
     "metadata": {},
     "output_type": "execute_result"
    }
   ],
   "source": [
    "%sql SELECT sql \\\n",
    "FROM sqlite_master \\\n",
    "WHERE name = 'crime_scene_report'"
   ]
  },
  {
   "cell_type": "markdown",
   "id": "personalized-trauma",
   "metadata": {},
   "source": [
    "This query will tell us the column names and the corresponding data types inside the table, allowing us to infer the table and make additional queries."
   ]
  },
  {
   "cell_type": "code",
   "execution_count": 5,
   "id": "tested-consultancy",
   "metadata": {},
   "outputs": [
    {
     "name": "stdout",
     "output_type": "stream",
     "text": [
      " * sqlite:///sql-murder-mystery.db\n",
      "Done.\n"
     ]
    },
    {
     "data": {
      "text/html": [
       "<table>\n",
       "    <tr>\n",
       "        <th>date</th>\n",
       "        <th>type</th>\n",
       "        <th>description</th>\n",
       "        <th>city</th>\n",
       "    </tr>\n",
       "    <tr>\n",
       "        <td>20180115</td>\n",
       "        <td>murder</td>\n",
       "        <td>Security footage shows that there were 2 witnesses. The first witness lives at the last house on &quot;Northwestern Dr&quot;. The second witness, named Annabel, lives somewhere on &quot;Franklin Ave&quot;.</td>\n",
       "        <td>SQL City</td>\n",
       "    </tr>\n",
       "</table>"
      ],
      "text/plain": [
       "[(20180115, 'murder', 'Security footage shows that there were 2 witnesses. The first witness lives at the last house on \"Northwestern Dr\". The second witness, named Annabel, lives somewhere on \"Franklin Ave\".', 'SQL City')]"
      ]
     },
     "execution_count": 5,
     "metadata": {},
     "output_type": "execute_result"
    }
   ],
   "source": [
    "%sql SELECT * \\\n",
    "FROM crime_scene_report \\\n",
    "WHERE type = 'murder' \\\n",
    "AND date BETWEEN 20180101 AND 20180131 \\\n",
    "AND lower(city) = 'sql city'"
   ]
  },
  {
   "cell_type": "markdown",
   "id": "manufactured-movie",
   "metadata": {},
   "source": [
    "Inserting the conditions found in the prompt, we find only one crime scene report that matches. The description mentions two witnesses which we will now find.\n",
    "\n",
    "## Witness 1"
   ]
  },
  {
   "cell_type": "code",
   "execution_count": 6,
   "id": "corrected-brazil",
   "metadata": {},
   "outputs": [
    {
     "name": "stdout",
     "output_type": "stream",
     "text": [
      " * sqlite:///sql-murder-mystery.db\n",
      "Done.\n"
     ]
    },
    {
     "data": {
      "text/html": [
       "<table>\n",
       "    <tr>\n",
       "        <th>sql</th>\n",
       "    </tr>\n",
       "    <tr>\n",
       "        <td>CREATE TABLE person (<br>        id integer PRIMARY KEY,<br>        name text,<br>        license_id integer,<br>        address_number integer,<br>        address_street_name text,<br>        ssn integer,<br>        FOREIGN KEY (license_id) REFERENCES drivers_license(id)<br>    )</td>\n",
       "    </tr>\n",
       "</table>"
      ],
      "text/plain": [
       "[('CREATE TABLE person (\\n        id integer PRIMARY KEY,\\n        name text,\\n        license_id integer,\\n        address_number integer,\\n        address_street_name text,\\n        ssn integer,\\n        FOREIGN KEY (license_id) REFERENCES drivers_license(id)\\n    )',)]"
      ]
     },
     "execution_count": 6,
     "metadata": {},
     "output_type": "execute_result"
    }
   ],
   "source": [
    "%sql SELECT sql \\\n",
    "FROM sqlite_master \\\n",
    "WHERE name = 'person'"
   ]
  },
  {
   "cell_type": "code",
   "execution_count": 7,
   "id": "burning-crash",
   "metadata": {},
   "outputs": [
    {
     "name": "stdout",
     "output_type": "stream",
     "text": [
      " * sqlite:///sql-murder-mystery.db\n",
      "Done.\n"
     ]
    },
    {
     "data": {
      "text/html": [
       "<table>\n",
       "    <tr>\n",
       "        <th>id</th>\n",
       "        <th>name</th>\n",
       "        <th>license_id</th>\n",
       "        <th>address_number</th>\n",
       "        <th>address_street_name</th>\n",
       "        <th>ssn</th>\n",
       "    </tr>\n",
       "    <tr>\n",
       "        <td>14887</td>\n",
       "        <td>Morty Schapiro</td>\n",
       "        <td>118009</td>\n",
       "        <td>4919</td>\n",
       "        <td>Northwestern Dr</td>\n",
       "        <td>111564949</td>\n",
       "    </tr>\n",
       "</table>"
      ],
      "text/plain": [
       "[(14887, 'Morty Schapiro', 118009, 4919, 'Northwestern Dr', 111564949)]"
      ]
     },
     "execution_count": 7,
     "metadata": {},
     "output_type": "execute_result"
    }
   ],
   "source": [
    "%sql SELECT * \\\n",
    "FROM person \\\n",
    "WHERE lower(address_street_name) = 'northwestern dr'\\\n",
    "ORDER BY address_number DESC \\\n",
    "LIMIT 1"
   ]
  },
  {
   "cell_type": "markdown",
   "id": "exterior-brighton",
   "metadata": {},
   "source": [
    "The first witness living in the last house on Northwestern Dr is Morty Schapiro.\n",
    "\n",
    "## Witness 2"
   ]
  },
  {
   "cell_type": "code",
   "execution_count": 8,
   "id": "different-veteran",
   "metadata": {},
   "outputs": [
    {
     "name": "stdout",
     "output_type": "stream",
     "text": [
      " * sqlite:///sql-murder-mystery.db\n",
      "Done.\n"
     ]
    },
    {
     "data": {
      "text/html": [
       "<table>\n",
       "    <tr>\n",
       "        <th>id</th>\n",
       "        <th>name</th>\n",
       "        <th>license_id</th>\n",
       "        <th>address_number</th>\n",
       "        <th>address_street_name</th>\n",
       "        <th>ssn</th>\n",
       "    </tr>\n",
       "    <tr>\n",
       "        <td>16371</td>\n",
       "        <td>Annabel Miller</td>\n",
       "        <td>490173</td>\n",
       "        <td>103</td>\n",
       "        <td>Franklin Ave</td>\n",
       "        <td>318771143</td>\n",
       "    </tr>\n",
       "</table>"
      ],
      "text/plain": [
       "[(16371, 'Annabel Miller', 490173, 103, 'Franklin Ave', 318771143)]"
      ]
     },
     "execution_count": 8,
     "metadata": {},
     "output_type": "execute_result"
    }
   ],
   "source": [
    "%sql SELECT * \\\n",
    "FROM person \\\n",
    "WHERE lower(address_street_name) = 'franklin ave' \\\n",
    "AND lower(name) LIKE '%annabel%'"
   ]
  },
  {
   "cell_type": "markdown",
   "id": "detailed-mercury",
   "metadata": {},
   "source": [
    "The second witness living on Franklin Ave is Annabel Miller.\n",
    "\n",
    "## Interview Transcripts"
   ]
  },
  {
   "cell_type": "code",
   "execution_count": 9,
   "id": "lesbian-bosnia",
   "metadata": {},
   "outputs": [
    {
     "name": "stdout",
     "output_type": "stream",
     "text": [
      " * sqlite:///sql-murder-mystery.db\n",
      "Done.\n"
     ]
    },
    {
     "data": {
      "text/html": [
       "<table>\n",
       "    <tr>\n",
       "        <th>sql</th>\n",
       "    </tr>\n",
       "    <tr>\n",
       "        <td>CREATE TABLE interview (<br>        person_id integer,<br>        transcript text,<br>        FOREIGN KEY (person_id) REFERENCES person(id)<br>    )</td>\n",
       "    </tr>\n",
       "</table>"
      ],
      "text/plain": [
       "[('CREATE TABLE interview (\\n        person_id integer,\\n        transcript text,\\n        FOREIGN KEY (person_id) REFERENCES person(id)\\n    )',)]"
      ]
     },
     "execution_count": 9,
     "metadata": {},
     "output_type": "execute_result"
    }
   ],
   "source": [
    "%sql SELECT sql \\\n",
    "FROM sqlite_master \\\n",
    "WHERE name = 'interview'"
   ]
  },
  {
   "cell_type": "markdown",
   "id": "rational-squad",
   "metadata": {},
   "source": [
    "Looking at the structure of the 'interview' table we can see that 'person_id' column in 'interview' references 'id' columns from 'person', which means that we can use those columns as common identifiers of the two tables."
   ]
  },
  {
   "cell_type": "code",
   "execution_count": 10,
   "id": "selected-riding",
   "metadata": {},
   "outputs": [
    {
     "name": "stdout",
     "output_type": "stream",
     "text": [
      " * sqlite:///sql-murder-mystery.db\n",
      "Done.\n"
     ]
    },
    {
     "data": {
      "text/html": [
       "<table>\n",
       "    <tr>\n",
       "        <th>person_id</th>\n",
       "        <th>transcript</th>\n",
       "        <th>id</th>\n",
       "        <th>name</th>\n",
       "        <th>license_id</th>\n",
       "        <th>address_number</th>\n",
       "        <th>address_street_name</th>\n",
       "        <th>ssn</th>\n",
       "    </tr>\n",
       "    <tr>\n",
       "        <td>14887</td>\n",
       "        <td>I heard a gunshot and then saw a man run out. He had a &quot;Get Fit Now Gym&quot; bag. The membership number on the bag started with &quot;48Z&quot;. Only gold members have those bags. The man got into a car with a plate that included &quot;H42W&quot;.</td>\n",
       "        <td>14887</td>\n",
       "        <td>Morty Schapiro</td>\n",
       "        <td>118009</td>\n",
       "        <td>4919</td>\n",
       "        <td>Northwestern Dr</td>\n",
       "        <td>111564949</td>\n",
       "    </tr>\n",
       "    <tr>\n",
       "        <td>16371</td>\n",
       "        <td>I saw the murder happen, and I recognized the killer from my gym when I was working out last week on January the 9th.</td>\n",
       "        <td>16371</td>\n",
       "        <td>Annabel Miller</td>\n",
       "        <td>490173</td>\n",
       "        <td>103</td>\n",
       "        <td>Franklin Ave</td>\n",
       "        <td>318771143</td>\n",
       "    </tr>\n",
       "</table>"
      ],
      "text/plain": [
       "[(14887, 'I heard a gunshot and then saw a man run out. He had a \"Get Fit Now Gym\" bag. The membership number on the bag started with \"48Z\". Only gold members have those bags. The man got into a car with a plate that included \"H42W\".', 14887, 'Morty Schapiro', 118009, 4919, 'Northwestern Dr', 111564949),\n",
       " (16371, 'I saw the murder happen, and I recognized the killer from my gym when I was working out last week on January the 9th.', 16371, 'Annabel Miller', 490173, 103, 'Franklin Ave', 318771143)]"
      ]
     },
     "execution_count": 10,
     "metadata": {},
     "output_type": "execute_result"
    }
   ],
   "source": [
    "%sql SELECT * \\\n",
    "FROM interview \\\n",
    "JOIN person \\\n",
    "ON interview.person_id = person.id \\\n",
    "WHERE interview.person_id = 16371 OR interview.person_id = 14887"
   ]
  },
  {
   "cell_type": "markdown",
   "id": "public-cooling",
   "metadata": {},
   "source": [
    "By simply using the ids of Morty and Annabel we can find their interview transcripts detailing their witness reports. Both transcripts point us to the \"Get Fit Now\" gym.\n",
    "\n",
    "## Get Fit Now Members"
   ]
  },
  {
   "cell_type": "code",
   "execution_count": 11,
   "id": "lovely-modern",
   "metadata": {},
   "outputs": [
    {
     "name": "stdout",
     "output_type": "stream",
     "text": [
      " * sqlite:///sql-murder-mystery.db\n",
      "Done.\n"
     ]
    },
    {
     "data": {
      "text/html": [
       "<table>\n",
       "    <tr>\n",
       "        <th>sql</th>\n",
       "    </tr>\n",
       "    <tr>\n",
       "        <td>CREATE TABLE get_fit_now_member (<br>        id text PRIMARY KEY,<br>        person_id integer,<br>        name text,<br>        membership_start_date integer,<br>        membership_status text,<br>        FOREIGN KEY (person_id) REFERENCES person(id)<br>    )</td>\n",
       "    </tr>\n",
       "</table>"
      ],
      "text/plain": [
       "[('CREATE TABLE get_fit_now_member (\\n        id text PRIMARY KEY,\\n        person_id integer,\\n        name text,\\n        membership_start_date integer,\\n        membership_status text,\\n        FOREIGN KEY (person_id) REFERENCES person(id)\\n    )',)]"
      ]
     },
     "execution_count": 11,
     "metadata": {},
     "output_type": "execute_result"
    }
   ],
   "source": [
    "%sql SELECT sql \\\n",
    "FROM sqlite_master \\\n",
    "WHERE name = 'get_fit_now_member'"
   ]
  },
  {
   "cell_type": "code",
   "execution_count": 12,
   "id": "rural-excuse",
   "metadata": {},
   "outputs": [
    {
     "name": "stdout",
     "output_type": "stream",
     "text": [
      " * sqlite:///sql-murder-mystery.db\n",
      "Done.\n"
     ]
    },
    {
     "data": {
      "text/html": [
       "<table>\n",
       "    <tr>\n",
       "        <th>id</th>\n",
       "        <th>person_id</th>\n",
       "        <th>name</th>\n",
       "        <th>membership_start_date</th>\n",
       "        <th>membership_status</th>\n",
       "    </tr>\n",
       "    <tr>\n",
       "        <td>48Z7A</td>\n",
       "        <td>28819</td>\n",
       "        <td>Joe Germuska</td>\n",
       "        <td>20160305</td>\n",
       "        <td>gold</td>\n",
       "    </tr>\n",
       "    <tr>\n",
       "        <td>48Z55</td>\n",
       "        <td>67318</td>\n",
       "        <td>Jeremy Bowers</td>\n",
       "        <td>20160101</td>\n",
       "        <td>gold</td>\n",
       "    </tr>\n",
       "</table>"
      ],
      "text/plain": [
       "[('48Z7A', 28819, 'Joe Germuska', 20160305, 'gold'),\n",
       " ('48Z55', 67318, 'Jeremy Bowers', 20160101, 'gold')]"
      ]
     },
     "execution_count": 12,
     "metadata": {},
     "output_type": "execute_result"
    }
   ],
   "source": [
    "%sql SELECT * \\\n",
    "FROM get_fit_now_member \\\n",
    "WHERE lower(membership_status) = 'gold' \\\n",
    "AND id LIKE '48Z%'"
   ]
  },
  {
   "cell_type": "markdown",
   "id": "impressive-mandate",
   "metadata": {},
   "source": [
    "Running the query on the table containing gym membership information we find two people matching the conditions of having a 'gold' membership status and membership id starting with '48Z' from Morty's witness report.\n",
    "\n",
    "## Get Fit Now Checkin"
   ]
  },
  {
   "cell_type": "code",
   "execution_count": 13,
   "id": "natural-mother",
   "metadata": {},
   "outputs": [
    {
     "name": "stdout",
     "output_type": "stream",
     "text": [
      " * sqlite:///sql-murder-mystery.db\n",
      "Done.\n"
     ]
    },
    {
     "data": {
      "text/html": [
       "<table>\n",
       "    <tr>\n",
       "        <th>sql</th>\n",
       "    </tr>\n",
       "    <tr>\n",
       "        <td>CREATE TABLE get_fit_now_check_in (<br>        membership_id text,<br>        check_in_date integer,<br>        check_in_time integer,<br>        check_out_time integer,<br>        FOREIGN KEY (membership_id) REFERENCES get_fit_now_member(id)<br>    )</td>\n",
       "    </tr>\n",
       "</table>"
      ],
      "text/plain": [
       "[('CREATE TABLE get_fit_now_check_in (\\n        membership_id text,\\n        check_in_date integer,\\n        check_in_time integer,\\n        check_out_time integer,\\n        FOREIGN KEY (membership_id) REFERENCES get_fit_now_member(id)\\n    )',)]"
      ]
     },
     "execution_count": 13,
     "metadata": {},
     "output_type": "execute_result"
    }
   ],
   "source": [
    "%sql SELECT sql \\\n",
    "FROM sqlite_master \\\n",
    "WHERE name = 'get_fit_now_check_in'"
   ]
  },
  {
   "cell_type": "code",
   "execution_count": 14,
   "id": "accepting-basic",
   "metadata": {},
   "outputs": [
    {
     "name": "stdout",
     "output_type": "stream",
     "text": [
      " * sqlite:///sql-murder-mystery.db\n",
      "Done.\n"
     ]
    },
    {
     "data": {
      "text/html": [
       "<table>\n",
       "    <tr>\n",
       "        <th>membership_id</th>\n",
       "        <th>check_in_date</th>\n",
       "        <th>check_in_time</th>\n",
       "        <th>check_out_time</th>\n",
       "        <th>id</th>\n",
       "        <th>person_id</th>\n",
       "        <th>name</th>\n",
       "        <th>membership_start_date</th>\n",
       "        <th>membership_status</th>\n",
       "    </tr>\n",
       "    <tr>\n",
       "        <td>90081</td>\n",
       "        <td>20180109</td>\n",
       "        <td>1600</td>\n",
       "        <td>1700</td>\n",
       "        <td>90081</td>\n",
       "        <td>16371</td>\n",
       "        <td>Annabel Miller</td>\n",
       "        <td>20160208</td>\n",
       "        <td>gold</td>\n",
       "    </tr>\n",
       "</table>"
      ],
      "text/plain": [
       "[('90081', 20180109, 1600, 1700, '90081', 16371, 'Annabel Miller', 20160208, 'gold')]"
      ]
     },
     "execution_count": 14,
     "metadata": {},
     "output_type": "execute_result"
    }
   ],
   "source": [
    "%sql SELECT * \\\n",
    "FROM get_fit_now_check_in check_in \\\n",
    "JOIN get_fit_now_member member \\\n",
    "ON check_in.membership_id = member.id \\\n",
    "WHERE person_id = 16371"
   ]
  },
  {
   "cell_type": "markdown",
   "id": "statewide-court",
   "metadata": {},
   "source": [
    "Verifying Annabel's witness report we find out that on 9 January she was in the gym from 1600 to 1700, indicating that the murderer was in the gym during that period of time as well."
   ]
  },
  {
   "cell_type": "code",
   "execution_count": 15,
   "id": "labeled-nebraska",
   "metadata": {},
   "outputs": [
    {
     "name": "stdout",
     "output_type": "stream",
     "text": [
      " * sqlite:///sql-murder-mystery.db\n",
      "Done.\n"
     ]
    },
    {
     "data": {
      "text/html": [
       "<table>\n",
       "    <tr>\n",
       "        <th>membership_id</th>\n",
       "        <th>check_in_date</th>\n",
       "        <th>check_in_time</th>\n",
       "        <th>check_out_time</th>\n",
       "    </tr>\n",
       "    <tr>\n",
       "        <td>48Z7A</td>\n",
       "        <td>20180109</td>\n",
       "        <td>1600</td>\n",
       "        <td>1730</td>\n",
       "    </tr>\n",
       "    <tr>\n",
       "        <td>48Z55</td>\n",
       "        <td>20180109</td>\n",
       "        <td>1530</td>\n",
       "        <td>1700</td>\n",
       "    </tr>\n",
       "</table>"
      ],
      "text/plain": [
       "[('48Z7A', 20180109, 1600, 1730), ('48Z55', 20180109, 1530, 1700)]"
      ]
     },
     "execution_count": 15,
     "metadata": {},
     "output_type": "execute_result"
    }
   ],
   "source": [
    "%sql SELECT * \\\n",
    "FROM get_fit_now_check_in \\\n",
    "WHERE check_in_date = 20180109 \\\n",
    "AND membership_id LIKE '48Z%'"
   ]
  },
  {
   "cell_type": "markdown",
   "id": "entire-military",
   "metadata": {},
   "source": [
    "Querying the table for members who checked in to the gym on 9 January and have membership ids starting with '48Z' results in the same two people from before. Additionally, both of them we in the gym when Annabel was present so it is not possible to identify the killer.\n",
    "\n",
    "## Driver's License\n",
    "Fortunately, Morty's witness report details the killer entering a vehicle with car plate number containing \"H42W\"."
   ]
  },
  {
   "cell_type": "code",
   "execution_count": 16,
   "id": "configured-azerbaijan",
   "metadata": {},
   "outputs": [
    {
     "name": "stdout",
     "output_type": "stream",
     "text": [
      " * sqlite:///sql-murder-mystery.db\n",
      "Done.\n"
     ]
    },
    {
     "data": {
      "text/html": [
       "<table>\n",
       "    <tr>\n",
       "        <th>sql</th>\n",
       "    </tr>\n",
       "    <tr>\n",
       "        <td>CREATE TABLE drivers_license (<br>        id integer PRIMARY KEY,<br>        age integer,<br>        height integer,<br>        eye_color text,<br>        hair_color text,<br>        gender text,<br>        plate_number text,<br>        car_make text,<br>        car_model text<br>    )</td>\n",
       "    </tr>\n",
       "</table>"
      ],
      "text/plain": [
       "[('CREATE TABLE drivers_license (\\n        id integer PRIMARY KEY,\\n        age integer,\\n        height integer,\\n        eye_color text,\\n        hair_color text,\\n        gender text,\\n        plate_number text,\\n        car_make text,\\n        car_model text\\n    )',)]"
      ]
     },
     "execution_count": 16,
     "metadata": {},
     "output_type": "execute_result"
    }
   ],
   "source": [
    "%sql SELECT sql \\\n",
    "FROM sqlite_master \\\n",
    "WHERE name = 'drivers_license'"
   ]
  },
  {
   "cell_type": "code",
   "execution_count": 17,
   "id": "forward-intent",
   "metadata": {},
   "outputs": [
    {
     "name": "stdout",
     "output_type": "stream",
     "text": [
      " * sqlite:///sql-murder-mystery.db\n",
      "Done.\n"
     ]
    },
    {
     "data": {
      "text/html": [
       "<table>\n",
       "    <tr>\n",
       "        <th>id</th>\n",
       "        <th>age</th>\n",
       "        <th>height</th>\n",
       "        <th>eye_color</th>\n",
       "        <th>hair_color</th>\n",
       "        <th>gender</th>\n",
       "        <th>plate_number</th>\n",
       "        <th>car_make</th>\n",
       "        <th>car_model</th>\n",
       "        <th>id_1</th>\n",
       "        <th>name</th>\n",
       "        <th>license_id</th>\n",
       "        <th>address_number</th>\n",
       "        <th>address_street_name</th>\n",
       "        <th>ssn</th>\n",
       "    </tr>\n",
       "    <tr>\n",
       "        <td>423327</td>\n",
       "        <td>30</td>\n",
       "        <td>70</td>\n",
       "        <td>brown</td>\n",
       "        <td>brown</td>\n",
       "        <td>male</td>\n",
       "        <td>0H42W2</td>\n",
       "        <td>Chevrolet</td>\n",
       "        <td>Spark LS</td>\n",
       "        <td>67318</td>\n",
       "        <td>Jeremy Bowers</td>\n",
       "        <td>423327</td>\n",
       "        <td>530</td>\n",
       "        <td>Washington Pl, Apt 3A</td>\n",
       "        <td>871539279</td>\n",
       "    </tr>\n",
       "</table>"
      ],
      "text/plain": [
       "[(423327, 30, 70, 'brown', 'brown', 'male', '0H42W2', 'Chevrolet', 'Spark LS', 67318, 'Jeremy Bowers', 423327, 530, 'Washington Pl, Apt 3A', 871539279)]"
      ]
     },
     "execution_count": 17,
     "metadata": {},
     "output_type": "execute_result"
    }
   ],
   "source": [
    "%sql SELECT * \\\n",
    "FROM drivers_license \\\n",
    "JOIN person \\\n",
    "ON drivers_license.id = person.license_id \\\n",
    "WHERE person.id = 28819 OR person.id = 67318"
   ]
  },
  {
   "cell_type": "markdown",
   "id": "durable-evidence",
   "metadata": {},
   "source": [
    "Querying the driver's license table with ids of the two suspects returns only one result from Jeremy Bowers with car plate number matching the description, suggesting that he was the killer who entered his own registered vehicle after the murder.\n",
    "\n",
    "## Verify Answer"
   ]
  },
  {
   "cell_type": "code",
   "execution_count": 18,
   "id": "automotive-female",
   "metadata": {},
   "outputs": [
    {
     "name": "stdout",
     "output_type": "stream",
     "text": [
      " * sqlite:///sql-murder-mystery.db\n",
      "1 rows affected.\n",
      " * sqlite:///sql-murder-mystery.db\n",
      "Done.\n"
     ]
    },
    {
     "data": {
      "text/html": [
       "<table>\n",
       "    <tr>\n",
       "        <th>value</th>\n",
       "    </tr>\n",
       "    <tr>\n",
       "        <td>Congrats, you found the murderer! But wait, there&#x27;s more... If you think you&#x27;re up for a challenge, try querying the interview transcript of the murderer to find the real villain behind this crime. If you feel especially confident in your SQL skills, try to complete this final step with no more than 2 queries. Use this same INSERT statement with your new suspect to check your answer.</td>\n",
       "    </tr>\n",
       "</table>"
      ],
      "text/plain": [
       "[(\"Congrats, you found the murderer! But wait, there's more... If you think you're up for a challenge, try querying the interview transcript of the murd ... (88 characters truncated) ... r SQL skills, try to complete this final step with no more than 2 queries. Use this same INSERT statement with your new suspect to check your answer.\",)]"
      ]
     },
     "execution_count": 18,
     "metadata": {},
     "output_type": "execute_result"
    }
   ],
   "source": [
    "%sql INSERT INTO solution VALUES (1, 'Jeremy Bowers');\n",
    "%sql SELECT value FROM solution;"
   ]
  },
  {
   "cell_type": "markdown",
   "id": "permanent-manual",
   "metadata": {},
   "source": [
    "It seems that we have indeed identified the correct killer! Now a bonus challenge requires us to identify the mastermind behind this murder."
   ]
  },
  {
   "cell_type": "code",
   "execution_count": 19,
   "id": "finite-launch",
   "metadata": {},
   "outputs": [
    {
     "name": "stdout",
     "output_type": "stream",
     "text": [
      " * sqlite:///sql-murder-mystery.db\n",
      "Done.\n"
     ]
    },
    {
     "data": {
      "text/html": [
       "<table>\n",
       "    <tr>\n",
       "        <th>person_id</th>\n",
       "        <th>transcript</th>\n",
       "    </tr>\n",
       "    <tr>\n",
       "        <td>67318</td>\n",
       "        <td>I was hired by a woman with a lot of money. I don&#x27;t know her name but I know she&#x27;s around 5&#x27;5&quot; (65&quot;) or 5&#x27;7&quot; (67&quot;). She has red hair and she drives a Tesla Model S. I know that she attended the SQL Symphony Concert 3 times in December 2017.<br></td>\n",
       "    </tr>\n",
       "</table>"
      ],
      "text/plain": [
       "[(67318, 'I was hired by a woman with a lot of money. I don\\'t know her name but I know she\\'s around 5\\'5\" (65\") or 5\\'7\" (67\"). She has red hair and she drives a Tesla Model S. I know that she attended the SQL Symphony Concert 3 times in December 2017.\\n')]"
      ]
     },
     "execution_count": 19,
     "metadata": {},
     "output_type": "execute_result"
    }
   ],
   "source": [
    "%sql SELECT * \\\n",
    "FROM interview \\\n",
    "WHERE person_id = 67318"
   ]
  },
  {
   "cell_type": "markdown",
   "id": "described-locator",
   "metadata": {},
   "source": [
    "Looking into the interview transcript of the murder we gather some identifying features of this mastermind."
   ]
  },
  {
   "cell_type": "code",
   "execution_count": 20,
   "id": "informal-teaching",
   "metadata": {},
   "outputs": [
    {
     "name": "stdout",
     "output_type": "stream",
     "text": [
      " * sqlite:///sql-murder-mystery.db\n",
      "Done.\n"
     ]
    },
    {
     "data": {
      "text/html": [
       "<table>\n",
       "    <tr>\n",
       "        <th>id</th>\n",
       "        <th>name</th>\n",
       "        <th>license_id</th>\n",
       "        <th>address_number</th>\n",
       "        <th>address_street_name</th>\n",
       "        <th>ssn</th>\n",
       "        <th>id_1</th>\n",
       "        <th>age</th>\n",
       "        <th>height</th>\n",
       "        <th>eye_color</th>\n",
       "        <th>hair_color</th>\n",
       "        <th>gender</th>\n",
       "        <th>plate_number</th>\n",
       "        <th>car_make</th>\n",
       "        <th>car_model</th>\n",
       "        <th>person_id</th>\n",
       "        <th>event_id</th>\n",
       "        <th>event_name</th>\n",
       "        <th>date</th>\n",
       "        <th>ssn_1</th>\n",
       "        <th>annual_income</th>\n",
       "    </tr>\n",
       "    <tr>\n",
       "        <td>99716</td>\n",
       "        <td>Miranda Priestly</td>\n",
       "        <td>202298</td>\n",
       "        <td>1883</td>\n",
       "        <td>Golden Ave</td>\n",
       "        <td>987756388</td>\n",
       "        <td>202298</td>\n",
       "        <td>68</td>\n",
       "        <td>66</td>\n",
       "        <td>green</td>\n",
       "        <td>red</td>\n",
       "        <td>female</td>\n",
       "        <td>500123</td>\n",
       "        <td>Tesla</td>\n",
       "        <td>Model S</td>\n",
       "        <td>99716</td>\n",
       "        <td>1143</td>\n",
       "        <td>SQL Symphony Concert</td>\n",
       "        <td>20171206</td>\n",
       "        <td>987756388</td>\n",
       "        <td>310000</td>\n",
       "    </tr>\n",
       "    <tr>\n",
       "        <td>99716</td>\n",
       "        <td>Miranda Priestly</td>\n",
       "        <td>202298</td>\n",
       "        <td>1883</td>\n",
       "        <td>Golden Ave</td>\n",
       "        <td>987756388</td>\n",
       "        <td>202298</td>\n",
       "        <td>68</td>\n",
       "        <td>66</td>\n",
       "        <td>green</td>\n",
       "        <td>red</td>\n",
       "        <td>female</td>\n",
       "        <td>500123</td>\n",
       "        <td>Tesla</td>\n",
       "        <td>Model S</td>\n",
       "        <td>99716</td>\n",
       "        <td>1143</td>\n",
       "        <td>SQL Symphony Concert</td>\n",
       "        <td>20171212</td>\n",
       "        <td>987756388</td>\n",
       "        <td>310000</td>\n",
       "    </tr>\n",
       "    <tr>\n",
       "        <td>99716</td>\n",
       "        <td>Miranda Priestly</td>\n",
       "        <td>202298</td>\n",
       "        <td>1883</td>\n",
       "        <td>Golden Ave</td>\n",
       "        <td>987756388</td>\n",
       "        <td>202298</td>\n",
       "        <td>68</td>\n",
       "        <td>66</td>\n",
       "        <td>green</td>\n",
       "        <td>red</td>\n",
       "        <td>female</td>\n",
       "        <td>500123</td>\n",
       "        <td>Tesla</td>\n",
       "        <td>Model S</td>\n",
       "        <td>99716</td>\n",
       "        <td>1143</td>\n",
       "        <td>SQL Symphony Concert</td>\n",
       "        <td>20171229</td>\n",
       "        <td>987756388</td>\n",
       "        <td>310000</td>\n",
       "    </tr>\n",
       "</table>"
      ],
      "text/plain": [
       "[(99716, 'Miranda Priestly', 202298, 1883, 'Golden Ave', 987756388, 202298, 68, 66, 'green', 'red', 'female', '500123', 'Tesla', 'Model S', 99716, 1143, 'SQL Symphony Concert', 20171206, 987756388, 310000),\n",
       " (99716, 'Miranda Priestly', 202298, 1883, 'Golden Ave', 987756388, 202298, 68, 66, 'green', 'red', 'female', '500123', 'Tesla', 'Model S', 99716, 1143, 'SQL Symphony Concert', 20171212, 987756388, 310000),\n",
       " (99716, 'Miranda Priestly', 202298, 1883, 'Golden Ave', 987756388, 202298, 68, 66, 'green', 'red', 'female', '500123', 'Tesla', 'Model S', 99716, 1143, 'SQL Symphony Concert', 20171229, 987756388, 310000)]"
      ]
     },
     "execution_count": 20,
     "metadata": {},
     "output_type": "execute_result"
    }
   ],
   "source": [
    "%sql SELECT * \\\n",
    "FROM person \\\n",
    "JOIN drivers_license dl \\\n",
    "ON person.license_id = dl.id \\\n",
    "JOIN facebook_event_checkin fb \\\n",
    "ON fb.person_id = person.id \\\n",
    "JOIN income \\\n",
    "ON income.ssn = person.ssn \\\n",
    "WHERE height BETWEEN 65 AND 67 \\\n",
    "AND lower(hair_color) = 'red' \\\n",
    "AND car_make = 'Tesla' \\\n",
    "AND car_model = 'Model S'"
   ]
  },
  {
   "cell_type": "markdown",
   "id": "announced-effort",
   "metadata": {},
   "source": [
    "Simply by using the height, hair color, and car make/model we were able to narrow the search down to only one suspect Miranda Priestly. Additionally, from the table we observe that she has indeed attended the SQL Symphony Concert thrice in December 2017 and makes over 300K annually, matching the murderer's interview transcript."
   ]
  },
  {
   "cell_type": "code",
   "execution_count": 21,
   "id": "cultural-threat",
   "metadata": {},
   "outputs": [
    {
     "name": "stdout",
     "output_type": "stream",
     "text": [
      " * sqlite:///sql-murder-mystery.db\n",
      "1 rows affected.\n",
      " * sqlite:///sql-murder-mystery.db\n",
      "Done.\n"
     ]
    },
    {
     "data": {
      "text/html": [
       "<table>\n",
       "    <tr>\n",
       "        <th>value</th>\n",
       "    </tr>\n",
       "    <tr>\n",
       "        <td>Congrats, you found the brains behind the murder! Everyone in SQL City hails you as the greatest SQL detective of all time. Time to break out the champagne!</td>\n",
       "    </tr>\n",
       "</table>"
      ],
      "text/plain": [
       "[('Congrats, you found the brains behind the murder! Everyone in SQL City hails you as the greatest SQL detective of all time. Time to break out the champagne!',)]"
      ]
     },
     "execution_count": 21,
     "metadata": {},
     "output_type": "execute_result"
    }
   ],
   "source": [
    "%sql INSERT INTO solution VALUES (1, 'Miranda Priestly');\n",
    "%sql SELECT value FROM solution;"
   ]
  },
  {
   "cell_type": "markdown",
   "id": "living-edwards",
   "metadata": {},
   "source": [
    "And as suspected, Miranda is the mastermind behind this murder!"
   ]
  }
 ],
 "metadata": {
  "kernelspec": {
   "display_name": "Python 3",
   "language": "python",
   "name": "python3"
  },
  "language_info": {
   "codemirror_mode": {
    "name": "ipython",
    "version": 3
   },
   "file_extension": ".py",
   "mimetype": "text/x-python",
   "name": "python",
   "nbconvert_exporter": "python",
   "pygments_lexer": "ipython3",
   "version": "3.8.8"
  }
 },
 "nbformat": 4,
 "nbformat_minor": 5
}
